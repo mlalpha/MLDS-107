{
 "cells": [
  {
   "cell_type": "code",
   "execution_count": 1,
   "metadata": {},
   "outputs": [],
   "source": [
    "import numpy as np"
   ]
  },
  {
   "cell_type": "code",
   "execution_count": null,
   "metadata": {},
   "outputs": [],
   "source": [
    "input_dim = None\n",
    "num_of_conv_layer = None\n",
    "conv_layers = []\n",
    "num_of_fc_layer = None\n",
    "fc_layer = []"
   ]
  },
  {
   "cell_type": "code",
   "execution_count": null,
   "metadata": {},
   "outputs": [],
   "source": [
    "class ConvLayer():\n",
    "    def __init__(self, kernel_size, num_of_filters):\n",
    "        self.kernel_size = None\n",
    "        self.num_of_filters = None\n",
    "        self.input_shape = None"
   ]
  },
  {
   "cell_type": "code",
   "execution_count": null,
   "metadata": {},
   "outputs": [],
   "source": [
    "input_dim = input(prompt='Size of input layer')\n",
    "num_of_conv_layer = input(prompt='Number of Conv Layer')\n",
    "for i in range(num_of_conv_layer):\n",
    "    conv_layers.append(ConvLayer(\n",
    "        kernel_size = input(prompt='Kernel size of layer %i'%(i+1)), \n",
    "        num_of_filters = input(prompt='Number of Kernel in layer %i'%(i+1)),\n",
    "    ))"
   ]
  }
 ],
 "metadata": {
  "kernelspec": {
   "display_name": "Python 3",
   "language": "python",
   "name": "python3"
  },
  "language_info": {
   "codemirror_mode": {
    "name": "ipython",
    "version": 3
   },
   "file_extension": ".py",
   "mimetype": "text/x-python",
   "name": "python",
   "nbconvert_exporter": "python",
   "pygments_lexer": "ipython3",
   "version": "3.6.5"
  }
 },
 "nbformat": 4,
 "nbformat_minor": 2
}
