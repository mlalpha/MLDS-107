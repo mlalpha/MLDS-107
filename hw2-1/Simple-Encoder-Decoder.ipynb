{
 "cells": [
  {
   "cell_type": "code",
   "execution_count": 1,
   "metadata": {},
   "outputs": [],
   "source": [
    "import tensorflow as tf\n",
    "import numpy as np\n",
    "from alpha_preprocessing import generate_batch, data_generator"
   ]
  },
  {
   "cell_type": "code",
   "execution_count": 2,
   "metadata": {},
   "outputs": [],
   "source": [
    "ENCODER_INPUT_SIZE = 4096\n",
    "HIDDEN_LAYER_SIZE = 1024\n",
    "EMBEDDING_SIZE = 1024\n",
    "NUM_OF_LAYER = 1\n",
    "BOS = 0\n",
    "EOS = 1\n",
    "BATCH_SIZE = 100\n",
    "KEEP_PROB = 0.7\n"
   ]
  },
  {
   "cell_type": "code",
   "execution_count": 3,
   "metadata": {
    "scrolled": true
   },
   "outputs": [
    {
     "name": "stdout",
     "output_type": "stream",
     "text": [
      "start loading data\n",
      "start encoding\n",
      "start convert to npy\n",
      "Done data generation!\n"
     ]
    }
   ],
   "source": [
    "X, y_inputs, y_targets, caption_id_to_feature_id,word_idx, idx_word, num_of_words, max_length, sequence_lengths, video_id = data_generator('./data/training_data', './data/training_label.json', 2)"
   ]
  },
  {
   "cell_type": "markdown",
   "metadata": {},
   "source": [
    "# Define the model"
   ]
  },
  {
   "cell_type": "code",
   "execution_count": 4,
   "metadata": {},
   "outputs": [],
   "source": [
    "tf.reset_default_graph()\n",
    "gpu_options = tf.GPUOptions(per_process_gpu_memory_fraction=1)\n",
    "# device_count = {'GPU': 1},\n",
    "sess = tf.InteractiveSession(config=tf.ConfigProto(gpu_options=gpu_options))\n",
    "with tf.name_scope('input'):\n",
    "    encoder_inputs = tf.placeholder(tf.float32, shape = [None, None, ENCODER_INPUT_SIZE])\n",
    "    decoder_inputs = tf.placeholder(tf.int32, shape = [None, None])\n",
    "    decoder_targets = tf.placeholder(tf.int32, shape = [None, None])\n",
    "    sequence_length = tf.placeholder(tf.int32, shape = [None])\n",
    "    sequence_length_fake = tf.placeholder(tf.int32, shape = [None])\n",
    "    sampling_prob = tf.placeholder(tf.float32, shape = [])\n",
    "    batch_size = tf.placeholder(tf.int32, shape = [])\n",
    "    keep_prob = tf.placeholder(tf.float32, shape = [])"
   ]
  },
  {
   "cell_type": "markdown",
   "metadata": {},
   "source": [
    "# Define Encoder "
   ]
  },
  {
   "cell_type": "code",
   "execution_count": 5,
   "metadata": {},
   "outputs": [],
   "source": [
    "with tf.name_scope('encoder'):\n",
    "    encoder_inputs_embedded = tf.layers.dense(encoder_inputs, EMBEDDING_SIZE)\n",
    "    encoder_cell_fw = tf.contrib.rnn.MultiRNNCell([tf.nn.rnn_cell.DropoutWrapper(tf.contrib.rnn.LSTMCell(HIDDEN_LAYER_SIZE), keep_prob) for _ in range(NUM_OF_LAYER)])\n",
    "    encoder_cell_bw = tf.contrib.rnn.MultiRNNCell([tf.nn.rnn_cell.DropoutWrapper(tf.contrib.rnn.LSTMCell(HIDDEN_LAYER_SIZE), keep_prob) for _ in range(NUM_OF_LAYER)])\n",
    "    encoder_outputs, encoder_state = tf.nn.bidirectional_dynamic_rnn(encoder_cell_fw, encoder_cell_bw, \n",
    "                                       encoder_inputs_embedded, \n",
    "                                       dtype=tf.float32)\n",
    "    encoder_outputs = tf.concat(encoder_outputs, 2)"
   ]
  },
  {
   "cell_type": "markdown",
   "metadata": {},
   "source": [
    "# Define Decoder for training"
   ]
  },
  {
   "cell_type": "code",
   "execution_count": 6,
   "metadata": {},
   "outputs": [],
   "source": [
    "with tf.name_scope('training_decoder'):\n",
    "    decoder_cell = tf.contrib.rnn.MultiRNNCell([tf.nn.rnn_cell.DropoutWrapper(tf.contrib.rnn.LSTMCell(HIDDEN_LAYER_SIZE), keep_prob) for _ in range(NUM_OF_LAYER)]) \n",
    "    # embedding for decoder\n",
    "    embeddings = tf.Variable(tf.random_uniform([num_of_words, EMBEDDING_SIZE], -1.0, 1.0), dtype=tf.float32)\n",
    "    decoder_inputs_embedded = tf.nn.embedding_lookup(embeddings, decoder_inputs)\n",
    "\n",
    "    attention_mechanism = tf.contrib.seq2seq.BahdanauAttention(\n",
    "        num_units=HIDDEN_LAYER_SIZE, memory=encoder_outputs)\n",
    "    attn_cell = tf.contrib.seq2seq.AttentionWrapper(\n",
    "        decoder_cell, attention_mechanism, attention_layer_size=HIDDEN_LAYER_SIZE)\n",
    "    out_cell = tf.contrib.rnn.OutputProjectionWrapper(\n",
    "            attn_cell, num_of_words\n",
    "        )\n",
    "\n",
    "    training_helper = tf.contrib.seq2seq.ScheduledEmbeddingTrainingHelper(decoder_inputs_embedded, \n",
    "                                               sequence_length_fake, embeddings, sampling_prob)\n",
    "    training_decoder = tf.contrib.seq2seq.BasicDecoder(out_cell, \n",
    "                                              training_helper, \n",
    "                                            initial_state = out_cell.zero_state(dtype=tf.float32, batch_size=batch_size))\n",
    "    # unrolling the decoder layer\n",
    "    training_outputs, _, _ = tf.contrib.seq2seq.dynamic_decode(training_decoder, \n",
    "                                                      impute_finished = True)"
   ]
  },
  {
   "cell_type": "markdown",
   "metadata": {},
   "source": [
    "# Define Decoder for inference"
   ]
  },
  {
   "cell_type": "code",
   "execution_count": 7,
   "metadata": {},
   "outputs": [],
   "source": [
    "with tf.variable_scope('inference_decoder', reuse = True):\n",
    "    inference_helper = tf.contrib.seq2seq.GreedyEmbeddingHelper(embeddings, \n",
    "                                                          tf.fill([batch_size], BOS), \n",
    "                                                          EOS)\n",
    "\n",
    "    inference_decoder = tf.contrib.seq2seq.BasicDecoder(out_cell, \n",
    "                                                  inference_helper, \n",
    "                                                initial_state = out_cell.zero_state(dtype=tf.float32, batch_size=batch_size))\n",
    "\n",
    "    inference_outputs, _, _ = tf.contrib.seq2seq.dynamic_decode(inference_decoder, \n",
    "                                                          impute_finished=True, maximum_iterations= max_length)"
   ]
  },
  {
   "cell_type": "markdown",
   "metadata": {},
   "source": [
    "# Define the training logits"
   ]
  },
  {
   "cell_type": "code",
   "execution_count": 8,
   "metadata": {},
   "outputs": [],
   "source": [
    "training_logits = tf.identity(training_outputs.rnn_output, name='logits')\n",
    "pred_output = tf.identity(inference_outputs.rnn_output, name='logits')\n",
    "masks = tf.sequence_mask(sequence_length, max_length, name = 'mask', dtype=tf.float32)"
   ]
  },
  {
   "cell_type": "code",
   "execution_count": 9,
   "metadata": {},
   "outputs": [
    {
     "name": "stdout",
     "output_type": "stream",
     "text": [
      "41\n"
     ]
    }
   ],
   "source": [
    "training_logits\n",
    "print(max_length)"
   ]
  },
  {
   "cell_type": "code",
   "execution_count": 10,
   "metadata": {},
   "outputs": [
    {
     "name": "stderr",
     "output_type": "stream",
     "text": [
      "/home/alpha/miniconda3/lib/python3.6/site-packages/tensorflow/python/ops/gradients_impl.py:108: UserWarning: Converting sparse IndexedSlices to a dense Tensor of unknown shape. This may consume a large amount of memory.\n",
      "  \"Converting sparse IndexedSlices to a dense Tensor of unknown shape. \"\n"
     ]
    }
   ],
   "source": [
    "# Define training\n",
    "with tf.name_scope(\"optimization\"):\n",
    "    # Loss function - weighted softmax cross entropy\n",
    "    cost = tf.contrib.seq2seq.sequence_loss(\n",
    "        training_logits,\n",
    "        decoder_targets,\n",
    "        masks)\n",
    "\n",
    "    # Optimizer\n",
    "    optimizer = tf.train.AdamOptimizer(1e-3)\n",
    "\n",
    "    # Gradient Clipping\n",
    "    gradients = optimizer.compute_gradients(cost)\n",
    "    capped_gradients = [(tf.clip_by_value(grad, -1., 1.), var) for grad, var in gradients if grad is not None]\n",
    "    train_op = optimizer.apply_gradients(capped_gradients)\n",
    "    tf.summary.scalar('loss', cost)\n",
    "    "
   ]
  },
  {
   "cell_type": "markdown",
   "metadata": {},
   "source": [
    "# Tensorbaord log storing"
   ]
  },
  {
   "cell_type": "code",
   "execution_count": 11,
   "metadata": {},
   "outputs": [],
   "source": [
    "summaries_dir = './log'\n",
    "merged = tf.summary.merge_all()\n",
    "train_writer = tf.summary.FileWriter(summaries_dir + '/train',\n",
    "                                      sess.graph)\n",
    "test_writer = tf.summary.FileWriter(summaries_dir + '/test')"
   ]
  },
  {
   "cell_type": "markdown",
   "metadata": {},
   "source": [
    "# Training"
   ]
  },
  {
   "cell_type": "code",
   "execution_count": 12,
   "metadata": {
    "scrolled": false
   },
   "outputs": [
    {
     "name": "stdout",
     "output_type": "stream",
     "text": [
      "['a', 'man', 'is', 'EOS', 'BOS', 'BOS', 'BOS']\n",
      "truth: ['a', 'woman', 'peels', 'an', 'apple', 'EOS', 'PAD', 'PAD', 'PAD', 'PAD', 'PAD', 'PAD', 'PAD', 'PAD', 'PAD', 'PAD', 'PAD', 'PAD', 'PAD', 'PAD', 'PAD', 'PAD', 'PAD', 'PAD', 'PAD', 'PAD', 'PAD', 'PAD', 'PAD', 'PAD', 'PAD', 'PAD', 'PAD', 'PAD', 'PAD', 'PAD', 'PAD', 'PAD', 'PAD', 'PAD', 'PAD']\n",
      "epoch 0: loss : 4.3283796310424805\n",
      "['a', 'man', 'is', 'playing', 'a', 'bowl', 'EOS']\n",
      "truth: ['someone', 'is', 'UWK', 'two', 'cameras', 'EOS', 'PAD', 'PAD', 'PAD', 'PAD', 'PAD', 'PAD', 'PAD', 'PAD', 'PAD', 'PAD', 'PAD', 'PAD', 'PAD', 'PAD', 'PAD', 'PAD', 'PAD', 'PAD', 'PAD', 'PAD', 'PAD', 'PAD', 'PAD', 'PAD', 'PAD', 'PAD', 'PAD', 'PAD', 'PAD', 'PAD', 'PAD', 'PAD', 'PAD', 'PAD', 'PAD']\n",
      "epoch 1: loss : 3.9544951915740967\n",
      "['a', 'man', 'is', 'playing', 'a', 'EOS', 'BOS']\n",
      "truth: ['a', 'woman', 'is', 'singing', 'a', 'song', 'EOS', 'PAD', 'PAD', 'PAD', 'PAD', 'PAD', 'PAD', 'PAD', 'PAD', 'PAD', 'PAD', 'PAD', 'PAD', 'PAD', 'PAD', 'PAD', 'PAD', 'PAD', 'PAD', 'PAD', 'PAD', 'PAD', 'PAD', 'PAD', 'PAD', 'PAD', 'PAD', 'PAD', 'PAD', 'PAD', 'PAD', 'PAD', 'PAD', 'PAD', 'PAD']\n",
      "epoch 2: loss : 3.7030816078186035\n",
      "['a', 'man', 'is', 'playing', 'a', 'guitar', 'EOS']\n",
      "truth: ['a', 'person', 'puts', 'two', 'pieces', 'of', 'salmon', 'into', 'a', 'pan', 'filled', 'with', 'salt', 'EOS', 'PAD', 'PAD', 'PAD', 'PAD', 'PAD', 'PAD', 'PAD', 'PAD', 'PAD', 'PAD', 'PAD', 'PAD', 'PAD', 'PAD', 'PAD', 'PAD', 'PAD', 'PAD', 'PAD', 'PAD', 'PAD', 'PAD', 'PAD', 'PAD', 'PAD', 'PAD', 'PAD']\n",
      "epoch 3: loss : 3.5681533813476562\n",
      "['a', 'man', 'is', 'doing', 'a', 'motorcycle', 'EOS', 'BOS', 'BOS', 'BOS', 'BOS', 'BOS', 'BOS']\n",
      "truth: ['a', 'toddler', 'tries', 'to', 'open', 'a', 'window', 'EOS', 'PAD', 'PAD', 'PAD', 'PAD', 'PAD', 'PAD', 'PAD', 'PAD', 'PAD', 'PAD', 'PAD', 'PAD', 'PAD', 'PAD', 'PAD', 'PAD', 'PAD', 'PAD', 'PAD', 'PAD', 'PAD', 'PAD', 'PAD', 'PAD', 'PAD', 'PAD', 'PAD', 'PAD', 'PAD', 'PAD', 'PAD', 'PAD', 'PAD']\n",
      "epoch 4: loss : 3.20625376701355\n",
      "['a', 'woman', 'is', 'singing', 'EOS', 'BOS', 'BOS', 'BOS', 'BOS', 'BOS']\n",
      "truth: ['a', 'woman', 'wraps', 'tofu', 'in', 'a', 'white', 'cloth', 'and', 'turns', 'folded', 'side', 'down', 'in', 'a', 'metal', 'pan', 'EOS', 'PAD', 'PAD', 'PAD', 'PAD', 'PAD', 'PAD', 'PAD', 'PAD', 'PAD', 'PAD', 'PAD', 'PAD', 'PAD', 'PAD', 'PAD', 'PAD', 'PAD', 'PAD', 'PAD', 'PAD', 'PAD', 'PAD', 'PAD']\n",
      "epoch 5: loss : 3.2372395992279053\n",
      "['a', 'man', 'is', 'playing', 'a', 'guitar', 'EOS', 'BOS', 'BOS']\n",
      "truth: ['a', 'man', 'behind', 'a', 'UWK', 'counter', 'is', 'UWK', 'out', 'UWK', 'to', 'people', 'EOS', 'PAD', 'PAD', 'PAD', 'PAD', 'PAD', 'PAD', 'PAD', 'PAD', 'PAD', 'PAD', 'PAD', 'PAD', 'PAD', 'PAD', 'PAD', 'PAD', 'PAD', 'PAD', 'PAD', 'PAD', 'PAD', 'PAD', 'PAD', 'PAD', 'PAD', 'PAD', 'PAD', 'PAD']\n",
      "epoch 6: loss : 2.800250768661499\n",
      "['a', 'man', 'is', 'dancing', 'a', 'motorcycle', 'EOS', 'BOS', 'BOS', 'BOS']\n",
      "truth: ['a', 'man', 'talks', 'on', 'his', 'cell', 'phone', 'EOS', 'PAD', 'PAD', 'PAD', 'PAD', 'PAD', 'PAD', 'PAD', 'PAD', 'PAD', 'PAD', 'PAD', 'PAD', 'PAD', 'PAD', 'PAD', 'PAD', 'PAD', 'PAD', 'PAD', 'PAD', 'PAD', 'PAD', 'PAD', 'PAD', 'PAD', 'PAD', 'PAD', 'PAD', 'PAD', 'PAD', 'PAD', 'PAD', 'PAD']\n",
      "epoch 7: loss : 2.999890089035034\n",
      "['a', 'man', 'is', 'cutting', 'butter', 'into', 'a', 'pot', 'EOS', 'BOS', 'BOS']\n",
      "truth: ['the', 'man', 'poured', 'oil', 'into', 'the', 'pot', 'EOS', 'PAD', 'PAD', 'PAD', 'PAD', 'PAD', 'PAD', 'PAD', 'PAD', 'PAD', 'PAD', 'PAD', 'PAD', 'PAD', 'PAD', 'PAD', 'PAD', 'PAD', 'PAD', 'PAD', 'PAD', 'PAD', 'PAD', 'PAD', 'PAD', 'PAD', 'PAD', 'PAD', 'PAD', 'PAD', 'PAD', 'PAD', 'PAD', 'PAD']\n",
      "epoch 8: loss : 2.715458869934082\n",
      "['a', 'man', 'is', 'dancing', 'EOS', 'BOS', 'BOS', 'BOS', 'BOS', 'BOS', 'BOS', 'BOS']\n",
      "truth: ['a', 'lady', 'was', 'pooped', 'on', 'UWK', 'she', 'was', 'under', 'a', 'horses', 'tail', 'end', 'EOS', 'PAD', 'PAD', 'PAD', 'PAD', 'PAD', 'PAD', 'PAD', 'PAD', 'PAD', 'PAD', 'PAD', 'PAD', 'PAD', 'PAD', 'PAD', 'PAD', 'PAD', 'PAD', 'PAD', 'PAD', 'PAD', 'PAD', 'PAD', 'PAD', 'PAD', 'PAD', 'PAD']\n",
      "epoch 9: loss : 2.6967387199401855\n",
      "['a', 'man', 'is', 'playing', 'a', 'violin', 'EOS', 'BOS', 'BOS', 'BOS', 'BOS']\n",
      "truth: ['a', 'man', 'is', 'riding', 'a', 'motorcycle', 'EOS', 'PAD', 'PAD', 'PAD', 'PAD', 'PAD', 'PAD', 'PAD', 'PAD', 'PAD', 'PAD', 'PAD', 'PAD', 'PAD', 'PAD', 'PAD', 'PAD', 'PAD', 'PAD', 'PAD', 'PAD', 'PAD', 'PAD', 'PAD', 'PAD', 'PAD', 'PAD', 'PAD', 'PAD', 'PAD', 'PAD', 'PAD', 'PAD', 'PAD', 'PAD']\n",
      "epoch 10: loss : 2.270224094390869\n",
      "['a', 'man', 'is', 'playing', 'a', 'guitar', 'EOS', 'BOS', 'BOS', 'BOS', 'BOS', 'BOS', 'BOS']\n",
      "truth: ['the', 'man', 'is', 'playing', 'with', 'a', 'wooden', 'flute', 'EOS', 'PAD', 'PAD', 'PAD', 'PAD', 'PAD', 'PAD', 'PAD', 'PAD', 'PAD', 'PAD', 'PAD', 'PAD', 'PAD', 'PAD', 'PAD', 'PAD', 'PAD', 'PAD', 'PAD', 'PAD', 'PAD', 'PAD', 'PAD', 'PAD', 'PAD', 'PAD', 'PAD', 'PAD', 'PAD', 'PAD', 'PAD', 'PAD']\n",
      "epoch 11: loss : 2.358776330947876\n",
      "['a', 'woman', 'is', 'making', 'balls', 'EOS', 'BOS', 'BOS', 'BOS', 'BOS', 'BOS', 'BOS', 'BOS', 'BOS', 'BOS', 'BOS', 'BOS', 'BOS', 'BOS', 'BOS', 'BOS', 'BOS', 'BOS', 'BOS', 'BOS', 'BOS', 'BOS', 'BOS', 'BOS', 'BOS', 'BOS']\n",
      "truth: ['a', 'cat', 'climbs', 'into', 'a', 'drawer', 'EOS', 'PAD', 'PAD', 'PAD', 'PAD', 'PAD', 'PAD', 'PAD', 'PAD', 'PAD', 'PAD', 'PAD', 'PAD', 'PAD', 'PAD', 'PAD', 'PAD', 'PAD', 'PAD', 'PAD', 'PAD', 'PAD', 'PAD', 'PAD', 'PAD', 'PAD', 'PAD', 'PAD', 'PAD', 'PAD', 'PAD', 'PAD', 'PAD', 'PAD', 'PAD']\n",
      "epoch 12: loss : 2.3569912910461426\n",
      "['a', 'man', 'is', 'pouring', 'oil', 'into', 'a', 'pot', 'EOS', 'BOS']\n",
      "truth: ['a', 'man', 'is', 'adding', 'sauce', 'to', 'pan', 'EOS', 'PAD', 'PAD', 'PAD', 'PAD', 'PAD', 'PAD', 'PAD', 'PAD', 'PAD', 'PAD', 'PAD', 'PAD', 'PAD', 'PAD', 'PAD', 'PAD', 'PAD', 'PAD', 'PAD', 'PAD', 'PAD', 'PAD', 'PAD', 'PAD', 'PAD', 'PAD', 'PAD', 'PAD', 'PAD', 'PAD', 'PAD', 'PAD', 'PAD']\n",
      "epoch 13: loss : 2.1209278106689453\n",
      "['a', 'man', 'is', 'doing', 'pushups', 'with', 'only', 'his', 'right', 'hand', 'supported', 'on', 'the', 'ground', 'in', 'front', 'of', 'EOS', 'BOS']\n",
      "truth: ['some', 'panda', 'babies', 'are', 'climbing', 'on', 'a', 'wooden', 'frame', 'EOS', 'PAD', 'PAD', 'PAD', 'PAD', 'PAD', 'PAD', 'PAD', 'PAD', 'PAD', 'PAD', 'PAD', 'PAD', 'PAD', 'PAD', 'PAD', 'PAD', 'PAD', 'PAD', 'PAD', 'PAD', 'PAD', 'PAD', 'PAD', 'PAD', 'PAD', 'PAD', 'PAD', 'PAD', 'PAD', 'PAD', 'PAD']\n",
      "epoch 14: loss : 1.9305421113967896\n",
      "['a', 'woman', 'is', 'wrapping', 'tofu', 'EOS', 'BOS', 'BOS', 'BOS', 'BOS', 'BOS', 'BOS', 'BOS', 'BOS', 'BOS', 'BOS', 'BOS', 'BOS', 'BOS', 'BOS', 'BOS', 'BOS', 'BOS', 'BOS', 'BOS', 'BOS', 'BOS', 'BOS', 'BOS', 'BOS', 'BOS', 'BOS']\n",
      "truth: ['a', 'woman', 'is', 'putting', 'on', 'lipstick', 'with', 'a', 'brush', 'and', 'talking', 'EOS', 'PAD', 'PAD', 'PAD', 'PAD', 'PAD', 'PAD', 'PAD', 'PAD', 'PAD', 'PAD', 'PAD', 'PAD', 'PAD', 'PAD', 'PAD', 'PAD', 'PAD', 'PAD', 'PAD', 'PAD', 'PAD', 'PAD', 'PAD', 'PAD', 'PAD', 'PAD', 'PAD', 'PAD', 'PAD']\n",
      "epoch 15: loss : 1.8531947135925293\n",
      "['a', 'man', 'is', 'pouring', 'oil', 'into', 'a', 'pot', 'EOS', 'BOS', 'BOS', 'BOS', 'BOS', 'BOS', 'BOS', 'BOS', 'BOS', 'BOS']\n",
      "truth: ['broccoli', 'is', 'being', 'cooked', 'EOS', 'PAD', 'PAD', 'PAD', 'PAD', 'PAD', 'PAD', 'PAD', 'PAD', 'PAD', 'PAD', 'PAD', 'PAD', 'PAD', 'PAD', 'PAD', 'PAD', 'PAD', 'PAD', 'PAD', 'PAD', 'PAD', 'PAD', 'PAD', 'PAD', 'PAD', 'PAD', 'PAD', 'PAD', 'PAD', 'PAD', 'PAD', 'PAD', 'PAD', 'PAD', 'PAD', 'PAD']\n",
      "epoch 16: loss : 1.961948037147522\n",
      "['a', 'woman', 'is', 'applying', 'lipstick', 'EOS', 'BOS', 'BOS', 'BOS', 'BOS', 'BOS', 'BOS']\n",
      "truth: ['a', 'woman', 'is', 'wrapping', 'tofu', 'EOS', 'PAD', 'PAD', 'PAD', 'PAD', 'PAD', 'PAD', 'PAD', 'PAD', 'PAD', 'PAD', 'PAD', 'PAD', 'PAD', 'PAD', 'PAD', 'PAD', 'PAD', 'PAD', 'PAD', 'PAD', 'PAD', 'PAD', 'PAD', 'PAD', 'PAD', 'PAD', 'PAD', 'PAD', 'PAD', 'PAD', 'PAD', 'PAD', 'PAD', 'PAD', 'PAD']\n",
      "epoch 17: loss : 1.9408307075500488\n",
      "['a', 'woman', 'is', 'chopping', 'garlic', 'EOS', 'BOS', 'BOS', 'BOS', 'BOS', 'BOS', 'BOS', 'BOS']\n",
      "truth: ['a', 'woman', 'is', 'chopping', 'garlic', 'EOS', 'PAD', 'PAD', 'PAD', 'PAD', 'PAD', 'PAD', 'PAD', 'PAD', 'PAD', 'PAD', 'PAD', 'PAD', 'PAD', 'PAD', 'PAD', 'PAD', 'PAD', 'PAD', 'PAD', 'PAD', 'PAD', 'PAD', 'PAD', 'PAD', 'PAD', 'PAD', 'PAD', 'PAD', 'PAD', 'PAD', 'PAD', 'PAD', 'PAD', 'PAD', 'PAD']\n",
      "epoch 18: loss : 1.8417549133300781\n",
      "['a', 'man', 'is', 'pouring', 'oil', 'into', 'a', 'pot', 'EOS', 'BOS', 'BOS', 'BOS', 'BOS']\n",
      "truth: ['a', 'man', 'is', 'pouring', 'a', 'souse', 'into', 'the', 'pan', 'EOS', 'PAD', 'PAD', 'PAD', 'PAD', 'PAD', 'PAD', 'PAD', 'PAD', 'PAD', 'PAD', 'PAD', 'PAD', 'PAD', 'PAD', 'PAD', 'PAD', 'PAD', 'PAD', 'PAD', 'PAD', 'PAD', 'PAD', 'PAD', 'PAD', 'PAD', 'PAD', 'PAD', 'PAD', 'PAD', 'PAD', 'PAD']\n",
      "epoch 19: loss : 1.708229422569275\n",
      "['a', 'man', 'is', 'dancing', 'EOS', 'BOS', 'BOS', 'BOS', 'BOS', 'BOS', 'BOS', 'BOS', 'BOS']\n",
      "truth: ['a', 'guy', 'is', 'speaking', 'on', 'the', 'telephone', 'EOS', 'PAD', 'PAD', 'PAD', 'PAD', 'PAD', 'PAD', 'PAD', 'PAD', 'PAD', 'PAD', 'PAD', 'PAD', 'PAD', 'PAD', 'PAD', 'PAD', 'PAD', 'PAD', 'PAD', 'PAD', 'PAD', 'PAD', 'PAD', 'PAD', 'PAD', 'PAD', 'PAD', 'PAD', 'PAD', 'PAD', 'PAD', 'PAD', 'PAD']\n",
      "epoch 20: loss : 1.6554505825042725\n",
      "['a', 'man', 'is', 'cutting', 'butter', 'into', 'a', 'mixing', 'bowl', 'EOS', 'BOS', 'BOS', 'BOS', 'BOS', 'BOS', 'BOS', 'BOS', 'BOS', 'BOS', 'BOS', 'BOS', 'BOS', 'BOS', 'BOS', 'BOS', 'BOS', 'BOS']\n",
      "truth: ['a', 'man', 'is', 'slicing', 'butter', 'EOS', 'PAD', 'PAD', 'PAD', 'PAD', 'PAD', 'PAD', 'PAD', 'PAD', 'PAD', 'PAD', 'PAD', 'PAD', 'PAD', 'PAD', 'PAD', 'PAD', 'PAD', 'PAD', 'PAD', 'PAD', 'PAD', 'PAD', 'PAD', 'PAD', 'PAD', 'PAD', 'PAD', 'PAD', 'PAD', 'PAD', 'PAD', 'PAD', 'PAD', 'PAD', 'PAD']\n",
      "epoch 21: loss : 1.6801855564117432\n",
      "['a', 'animal', 'is', 'hanging', 'from', 'some', 'string', 'EOS', 'BOS', 'BOS', 'BOS', 'BOS', 'BOS', 'BOS', 'BOS', 'BOS', 'BOS', 'BOS', 'BOS', 'BOS']\n",
      "truth: ['a', 'sloth', 'is', 'hanging', 'from', 'some', 'string', 'EOS', 'PAD', 'PAD', 'PAD', 'PAD', 'PAD', 'PAD', 'PAD', 'PAD', 'PAD', 'PAD', 'PAD', 'PAD', 'PAD', 'PAD', 'PAD', 'PAD', 'PAD', 'PAD', 'PAD', 'PAD', 'PAD', 'PAD', 'PAD', 'PAD', 'PAD', 'PAD', 'PAD', 'PAD', 'PAD', 'PAD', 'PAD', 'PAD', 'PAD']\n",
      "epoch 22: loss : 1.5113650560379028\n",
      "['someone', 'is', 'mixing', 'salt', 'and', 'pepper', 'EOS', 'BOS', 'BOS', 'BOS', 'BOS', 'BOS', 'BOS', 'BOS', 'BOS', 'BOS', 'BOS', 'BOS', 'BOS', 'BOS', 'BOS', 'BOS', 'BOS', 'BOS', 'BOS']\n",
      "truth: ['the', 'cook', 'is', 'placing', 'ingredients', 'into', 'a', 'blender', 'EOS', 'PAD', 'PAD', 'PAD', 'PAD', 'PAD', 'PAD', 'PAD', 'PAD', 'PAD', 'PAD', 'PAD', 'PAD', 'PAD', 'PAD', 'PAD', 'PAD', 'PAD', 'PAD', 'PAD', 'PAD', 'PAD', 'PAD', 'PAD', 'PAD', 'PAD', 'PAD', 'PAD', 'PAD', 'PAD', 'PAD', 'PAD', 'PAD']\n",
      "epoch 23: loss : 1.7076350450515747\n",
      "['a', 'man', 'is', 'playing', 'violin', 'EOS', 'BOS', 'BOS', 'BOS', 'BOS', 'BOS', 'BOS']\n",
      "truth: ['a', 'man', 'is', 'playing', 'a', 'violin', 'EOS', 'PAD', 'PAD', 'PAD', 'PAD', 'PAD', 'PAD', 'PAD', 'PAD', 'PAD', 'PAD', 'PAD', 'PAD', 'PAD', 'PAD', 'PAD', 'PAD', 'PAD', 'PAD', 'PAD', 'PAD', 'PAD', 'PAD', 'PAD', 'PAD', 'PAD', 'PAD', 'PAD', 'PAD', 'PAD', 'PAD', 'PAD', 'PAD', 'PAD', 'PAD']\n",
      "epoch 24: loss : 1.490553617477417\n",
      "['a', 'train', 'goes', 'across', 'a', 'bridge', 'EOS', 'BOS', 'BOS', 'BOS', 'BOS', 'BOS', 'BOS']\n",
      "truth: ['a', 'train', 'quickly', 'crosses', 'a', 'bridge', 'EOS', 'PAD', 'PAD', 'PAD', 'PAD', 'PAD', 'PAD', 'PAD', 'PAD', 'PAD', 'PAD', 'PAD', 'PAD', 'PAD', 'PAD', 'PAD', 'PAD', 'PAD', 'PAD', 'PAD', 'PAD', 'PAD', 'PAD', 'PAD', 'PAD', 'PAD', 'PAD', 'PAD', 'PAD', 'PAD', 'PAD', 'PAD', 'PAD', 'PAD', 'PAD']\n",
      "epoch 25: loss : 1.501995325088501\n",
      "['a', 'man', 'is', 'running', 'in', 'slow', 'motion', 'EOS', 'BOS', 'BOS', 'BOS', 'BOS', 'BOS', 'BOS', 'BOS', 'BOS', 'BOS', 'BOS', 'BOS', 'BOS', 'BOS', 'BOS', 'BOS', 'BOS', 'BOS', 'BOS']\n",
      "truth: ['a', 'man', 'ran', 'toward', 'a', 'sand', 'UWK', 'EOS', 'PAD', 'PAD', 'PAD', 'PAD', 'PAD', 'PAD', 'PAD', 'PAD', 'PAD', 'PAD', 'PAD', 'PAD', 'PAD', 'PAD', 'PAD', 'PAD', 'PAD', 'PAD', 'PAD', 'PAD', 'PAD', 'PAD', 'PAD', 'PAD', 'PAD', 'PAD', 'PAD', 'PAD', 'PAD', 'PAD', 'PAD', 'PAD', 'PAD']\n",
      "epoch 26: loss : 1.5360270738601685\n",
      "['a', 'man', 'is', 'speaking', 'EOS', 'BOS', 'BOS', 'BOS', 'BOS', 'BOS', 'BOS', 'BOS', 'BOS', 'BOS', 'BOS', 'BOS', 'BOS', 'BOS', 'BOS', 'BOS', 'BOS', 'BOS']\n",
      "truth: ['a', 'bearded', 'man', 'sits', 'and', 'talks', 'EOS', 'PAD', 'PAD', 'PAD', 'PAD', 'PAD', 'PAD', 'PAD', 'PAD', 'PAD', 'PAD', 'PAD', 'PAD', 'PAD', 'PAD', 'PAD', 'PAD', 'PAD', 'PAD', 'PAD', 'PAD', 'PAD', 'PAD', 'PAD', 'PAD', 'PAD', 'PAD', 'PAD', 'PAD', 'PAD', 'PAD', 'PAD', 'PAD', 'PAD', 'PAD']\n",
      "epoch 27: loss : 1.394476294517517\n",
      "['a', 'slow', 'loris', 'is', 'hanging', 'on', 'a', 'rope', 'EOS', 'BOS', 'BOS', 'BOS', 'BOS', 'BOS', 'BOS', 'BOS', 'BOS', 'BOS', 'BOS', 'BOS', 'BOS', 'BOS', 'BOS', 'BOS', 'BOS', 'BOS', 'BOS', 'BOS', 'BOS', 'BOS', 'BOS']\n",
      "truth: ['a', 'monkey', 'is', 'hanging', 'from', 'some', 'string', 'EOS', 'PAD', 'PAD', 'PAD', 'PAD', 'PAD', 'PAD', 'PAD', 'PAD', 'PAD', 'PAD', 'PAD', 'PAD', 'PAD', 'PAD', 'PAD', 'PAD', 'PAD', 'PAD', 'PAD', 'PAD', 'PAD', 'PAD', 'PAD', 'PAD', 'PAD', 'PAD', 'PAD', 'PAD', 'PAD', 'PAD', 'PAD', 'PAD', 'PAD']\n",
      "epoch 28: loss : 1.3681453466415405\n",
      "['a', 'person', 'is', 'adding', 'spices', 'in', 'a', 'bowl', 'EOS', 'BOS', 'BOS', 'BOS', 'BOS', 'BOS', 'BOS', 'BOS', 'BOS']\n",
      "truth: ['a', 'person', 'adds', 'cinnamon', 'and', 'vanilla', 'extract', 'to', 'eggs', 'EOS', 'PAD', 'PAD', 'PAD', 'PAD', 'PAD', 'PAD', 'PAD', 'PAD', 'PAD', 'PAD', 'PAD', 'PAD', 'PAD', 'PAD', 'PAD', 'PAD', 'PAD', 'PAD', 'PAD', 'PAD', 'PAD', 'PAD', 'PAD', 'PAD', 'PAD', 'PAD', 'PAD', 'PAD', 'PAD', 'PAD', 'PAD']\n",
      "epoch 29: loss : 1.3142050504684448\n",
      "['a', 'threelegged', 'dog', 'is', 'walking', 'in', 'the', 'grass', 'EOS', 'BOS', 'BOS', 'BOS', 'BOS', 'BOS', 'BOS', 'BOS', 'BOS', 'BOS', 'BOS', 'BOS', 'BOS', 'BOS']\n",
      "truth: ['a', 'dog', 'is', 'walking', 'in', 'the', 'grass', 'EOS', 'PAD', 'PAD', 'PAD', 'PAD', 'PAD', 'PAD', 'PAD', 'PAD', 'PAD', 'PAD', 'PAD', 'PAD', 'PAD', 'PAD', 'PAD', 'PAD', 'PAD', 'PAD', 'PAD', 'PAD', 'PAD', 'PAD', 'PAD', 'PAD', 'PAD', 'PAD', 'PAD', 'PAD', 'PAD', 'PAD', 'PAD', 'PAD', 'PAD']\n",
      "epoch 30: loss : 1.4138031005859375\n",
      "['a', 'dog', 'is', 'opening', 'a', 'fridge', 'EOS', 'BOS', 'BOS', 'BOS', 'BOS', 'BOS', 'BOS', 'BOS', 'BOS', 'BOS', 'BOS', 'BOS', 'BOS', 'BOS', 'BOS', 'BOS', 'BOS', 'BOS', 'BOS', 'BOS', 'BOS']\n",
      "truth: ['a', 'refrigerator', 'door', 'is', 'standing', 'open', 'and', 'a', 'dog', 'is', 'getting', 'something', 'out', 'of', 'the', 'refrigerator', 'EOS', 'PAD', 'PAD', 'PAD', 'PAD', 'PAD', 'PAD', 'PAD', 'PAD', 'PAD', 'PAD', 'PAD', 'PAD', 'PAD', 'PAD', 'PAD', 'PAD', 'PAD', 'PAD', 'PAD', 'PAD', 'PAD', 'PAD', 'PAD', 'PAD']\n",
      "epoch 31: loss : 1.3189741373062134\n",
      "['a', 'cat', 'is', 'opening', 'a', 'drawer', 'EOS', 'BOS', 'BOS', 'BOS', 'BOS', 'BOS', 'BOS', 'BOS', 'BOS', 'BOS', 'BOS', 'BOS', 'BOS', 'BOS', 'BOS']\n",
      "truth: ['a', 'cat', 'is', 'climbing', 'into', 'a', 'storage', 'box', 'EOS', 'PAD', 'PAD', 'PAD', 'PAD', 'PAD', 'PAD', 'PAD', 'PAD', 'PAD', 'PAD', 'PAD', 'PAD', 'PAD', 'PAD', 'PAD', 'PAD', 'PAD', 'PAD', 'PAD', 'PAD', 'PAD', 'PAD', 'PAD', 'PAD', 'PAD', 'PAD', 'PAD', 'PAD', 'PAD', 'PAD', 'PAD', 'PAD']\n",
      "epoch 32: loss : 1.2493069171905518\n",
      "['a', 'man', 'is', 'talking', 'EOS', 'BOS', 'BOS', 'BOS', 'BOS', 'BOS', 'BOS', 'BOS', 'BOS', 'BOS', 'BOS', 'BOS', 'BOS', 'BOS', 'BOS', 'BOS', 'BOS']\n",
      "truth: ['a', 'UWK', 'is', 'talking', 'EOS', 'PAD', 'PAD', 'PAD', 'PAD', 'PAD', 'PAD', 'PAD', 'PAD', 'PAD', 'PAD', 'PAD', 'PAD', 'PAD', 'PAD', 'PAD', 'PAD', 'PAD', 'PAD', 'PAD', 'PAD', 'PAD', 'PAD', 'PAD', 'PAD', 'PAD', 'PAD', 'PAD', 'PAD', 'PAD', 'PAD', 'PAD', 'PAD', 'PAD', 'PAD', 'PAD', 'PAD']\n",
      "epoch 33: loss : 1.3203887939453125\n",
      "['broccoli', 'is', 'being', 'cooked', 'EOS', 'BOS', 'BOS', 'BOS', 'BOS', 'BOS', 'BOS', 'BOS', 'BOS', 'BOS', 'BOS', 'BOS', 'BOS', 'BOS', 'BOS', 'BOS', 'BOS', 'BOS', 'BOS', 'BOS', 'BOS', 'BOS', 'BOS']\n",
      "truth: ['broccoli', 'is', 'being', 'cooked', 'EOS', 'PAD', 'PAD', 'PAD', 'PAD', 'PAD', 'PAD', 'PAD', 'PAD', 'PAD', 'PAD', 'PAD', 'PAD', 'PAD', 'PAD', 'PAD', 'PAD', 'PAD', 'PAD', 'PAD', 'PAD', 'PAD', 'PAD', 'PAD', 'PAD', 'PAD', 'PAD', 'PAD', 'PAD', 'PAD', 'PAD', 'PAD', 'PAD', 'PAD', 'PAD', 'PAD', 'PAD']\n",
      "epoch 34: loss : 1.3106616735458374\n",
      "['a', 'woman', 'is', 'peeling', 'an', 'EOS', 'BOS', 'BOS', 'BOS', 'BOS', 'BOS', 'BOS', 'BOS', 'BOS', 'BOS', 'BOS', 'BOS', 'BOS', 'BOS', 'BOS', 'BOS', 'BOS', 'BOS', 'BOS', 'BOS', 'BOS', 'BOS']\n",
      "truth: ['a', 'woman', 'is', 'cutting', 'a', 'piece', 'of', 'peeling', 'off', 'a', 'food', 'EOS', 'PAD', 'PAD', 'PAD', 'PAD', 'PAD', 'PAD', 'PAD', 'PAD', 'PAD', 'PAD', 'PAD', 'PAD', 'PAD', 'PAD', 'PAD', 'PAD', 'PAD', 'PAD', 'PAD', 'PAD', 'PAD', 'PAD', 'PAD', 'PAD', 'PAD', 'PAD', 'PAD', 'PAD', 'PAD']\n",
      "epoch 35: loss : 1.519392967224121\n",
      "['a', 'man', 'runs', 'toward', 'a', 'tornado', 'EOS', 'BOS', 'BOS', 'BOS', 'BOS', 'BOS', 'BOS', 'BOS', 'BOS', 'BOS', 'BOS', 'BOS', 'BOS', 'BOS', 'BOS', 'BOS', 'BOS', 'BOS', 'BOS', 'BOS', 'BOS']\n",
      "truth: ['a', 'man', 'is', 'running', 'towards', 'a', 'tornado', 'EOS', 'PAD', 'PAD', 'PAD', 'PAD', 'PAD', 'PAD', 'PAD', 'PAD', 'PAD', 'PAD', 'PAD', 'PAD', 'PAD', 'PAD', 'PAD', 'PAD', 'PAD', 'PAD', 'PAD', 'PAD', 'PAD', 'PAD', 'PAD', 'PAD', 'PAD', 'PAD', 'PAD', 'PAD', 'PAD', 'PAD', 'PAD', 'PAD', 'PAD']\n",
      "epoch 36: loss : 1.3089604377746582\n",
      "['a', 'man', 'and', 'a', 'woman', 'ride', 'on', 'a', 'bicycle', 'EOS', 'BOS', 'BOS', 'BOS', 'BOS', 'BOS', 'BOS', 'BOS', 'BOS', 'BOS', 'BOS']\n",
      "truth: ['a', 'man', 'and', 'a', 'woman', 'is', 'riding', 'on', 'a', 'bicycle', 'EOS', 'PAD', 'PAD', 'PAD', 'PAD', 'PAD', 'PAD', 'PAD', 'PAD', 'PAD', 'PAD', 'PAD', 'PAD', 'PAD', 'PAD', 'PAD', 'PAD', 'PAD', 'PAD', 'PAD', 'PAD', 'PAD', 'PAD', 'PAD', 'PAD', 'PAD', 'PAD', 'PAD', 'PAD', 'PAD', 'PAD']\n",
      "epoch 37: loss : 1.381307601928711\n",
      "['a', 'woman', 'is', 'placing', 'noodles', 'into', 'a', 'pot', 'EOS', 'BOS', 'BOS', 'BOS', 'BOS', 'BOS', 'BOS', 'BOS', 'BOS', 'BOS', 'BOS', 'BOS', 'BOS']\n",
      "truth: ['frozen', 'UWK', 'noodles', 'are', 'placed', 'into', 'a', 'pot', 'of', 'boiling', 'water', 'EOS', 'PAD', 'PAD', 'PAD', 'PAD', 'PAD', 'PAD', 'PAD', 'PAD', 'PAD', 'PAD', 'PAD', 'PAD', 'PAD', 'PAD', 'PAD', 'PAD', 'PAD', 'PAD', 'PAD', 'PAD', 'PAD', 'PAD', 'PAD', 'PAD', 'PAD', 'PAD', 'PAD', 'PAD', 'PAD']\n",
      "epoch 38: loss : 1.3680771589279175\n",
      "['a', 'slow', 'loris', 'is', 'eating', 'a', 'UWK', 'UWK', 'and', 'UWK', 'UWK', 'UWK', 'UWK', 'UWK', 'UWK', 'to', 'a', 'EOS', 'BOS', 'BOS', 'BOS', 'BOS']\n",
      "truth: ['a', 'slow', 'loris', 'is', 'eating', 'an', 'egg', 'EOS', 'PAD', 'PAD', 'PAD', 'PAD', 'PAD', 'PAD', 'PAD', 'PAD', 'PAD', 'PAD', 'PAD', 'PAD', 'PAD', 'PAD', 'PAD', 'PAD', 'PAD', 'PAD', 'PAD', 'PAD', 'PAD', 'PAD', 'PAD', 'PAD', 'PAD', 'PAD', 'PAD', 'PAD', 'PAD', 'PAD', 'PAD', 'PAD', 'PAD']\n",
      "epoch 39: loss : 1.3549689054489136\n",
      "['someone', 'is', 'seasoning', 'seasonings', 'with', 'a', 'small', 'bowl', 'EOS', 'BOS', 'BOS', 'BOS', 'BOS', 'BOS', 'BOS', 'BOS', 'BOS', 'BOS', 'BOS', 'BOS', 'BOS', 'BOS', 'BOS', 'BOS']\n",
      "truth: ['someone', 'is', 'putting', 'seasonings', 'onto', 'raw', 'eggs', 'EOS', 'PAD', 'PAD', 'PAD', 'PAD', 'PAD', 'PAD', 'PAD', 'PAD', 'PAD', 'PAD', 'PAD', 'PAD', 'PAD', 'PAD', 'PAD', 'PAD', 'PAD', 'PAD', 'PAD', 'PAD', 'PAD', 'PAD', 'PAD', 'PAD', 'PAD', 'PAD', 'PAD', 'PAD', 'PAD', 'PAD', 'PAD', 'PAD', 'PAD']\n",
      "epoch 40: loss : 1.400335431098938\n",
      "['a', 'woman', 'gets', 'out', 'of', 'a', 'taxi', 'EOS', 'BOS', 'BOS', 'BOS', 'BOS', 'BOS', 'BOS', 'BOS', 'BOS', 'BOS', 'BOS', 'BOS']\n",
      "truth: ['a', 'woman', 'gets', 'out', 'of', 'a', 'cab', 'EOS', 'PAD', 'PAD', 'PAD', 'PAD', 'PAD', 'PAD', 'PAD', 'PAD', 'PAD', 'PAD', 'PAD', 'PAD', 'PAD', 'PAD', 'PAD', 'PAD', 'PAD', 'PAD', 'PAD', 'PAD', 'PAD', 'PAD', 'PAD', 'PAD', 'PAD', 'PAD', 'PAD', 'PAD', 'PAD', 'PAD', 'PAD', 'PAD', 'PAD']\n",
      "epoch 41: loss : 1.2379881143569946\n",
      "['a', 'boy', 'is', 'looking', 'out', 'a', 'window', 'EOS', 'BOS', 'BOS', 'BOS', 'BOS', 'BOS', 'BOS', 'BOS', 'BOS', 'BOS']\n",
      "truth: ['the', 'little', 'boy', 'looked', 'out', 'the', 'window', 'EOS', 'PAD', 'PAD', 'PAD', 'PAD', 'PAD', 'PAD', 'PAD', 'PAD', 'PAD', 'PAD', 'PAD', 'PAD', 'PAD', 'PAD', 'PAD', 'PAD', 'PAD', 'PAD', 'PAD', 'PAD', 'PAD', 'PAD', 'PAD', 'PAD', 'PAD', 'PAD', 'PAD', 'PAD', 'PAD', 'PAD', 'PAD', 'PAD', 'PAD']\n",
      "epoch 42: loss : 1.2584319114685059\n",
      "['a', 'cat', 'is', 'meowing', 'into', 'the', 'camera', 'and', 'opening', 'its', 'mouth', 'EOS', 'BOS', 'BOS', 'BOS', 'BOS', 'BOS', 'BOS', 'BOS', 'BOS', 'BOS', 'BOS', 'BOS', 'BOS', 'BOS', 'BOS', 'BOS']\n",
      "truth: ['the', 'cat', 'UWK', 'EOS', 'PAD', 'PAD', 'PAD', 'PAD', 'PAD', 'PAD', 'PAD', 'PAD', 'PAD', 'PAD', 'PAD', 'PAD', 'PAD', 'PAD', 'PAD', 'PAD', 'PAD', 'PAD', 'PAD', 'PAD', 'PAD', 'PAD', 'PAD', 'PAD', 'PAD', 'PAD', 'PAD', 'PAD', 'PAD', 'PAD', 'PAD', 'PAD', 'PAD', 'PAD', 'PAD', 'PAD', 'PAD']\n",
      "epoch 43: loss : 1.2581846714019775\n",
      "['a', 'man', 'is', 'talking', 'EOS', 'BOS', 'BOS', 'BOS', 'BOS', 'BOS', 'BOS', 'BOS', 'BOS', 'BOS']\n",
      "truth: ['a', 'older', 'jewish', 'man', 'slowly', 'speaking', 'EOS', 'PAD', 'PAD', 'PAD', 'PAD', 'PAD', 'PAD', 'PAD', 'PAD', 'PAD', 'PAD', 'PAD', 'PAD', 'PAD', 'PAD', 'PAD', 'PAD', 'PAD', 'PAD', 'PAD', 'PAD', 'PAD', 'PAD', 'PAD', 'PAD', 'PAD', 'PAD', 'PAD', 'PAD', 'PAD', 'PAD', 'PAD', 'PAD', 'PAD', 'PAD']\n",
      "epoch 44: loss : 1.3649498224258423\n",
      "['a', 'woman', 'is', 'cracking', 'some', 'into', 'a', 'bowl', 'EOS', 'BOS', 'BOS', 'BOS', 'BOS', 'BOS']\n",
      "truth: ['a', 'woman', 'is', 'breaking', 'eggs', 'into', 'a', 'dish', 'EOS', 'PAD', 'PAD', 'PAD', 'PAD', 'PAD', 'PAD', 'PAD', 'PAD', 'PAD', 'PAD', 'PAD', 'PAD', 'PAD', 'PAD', 'PAD', 'PAD', 'PAD', 'PAD', 'PAD', 'PAD', 'PAD', 'PAD', 'PAD', 'PAD', 'PAD', 'PAD', 'PAD', 'PAD', 'PAD', 'PAD', 'PAD', 'PAD']\n",
      "epoch 45: loss : 1.4295819997787476\n",
      "['a', 'bunch', 'of', 'pandas', 'play', 'on', 'a', 'bench', 'EOS', 'BOS', 'BOS', 'BOS', 'BOS', 'BOS', 'BOS', 'BOS', 'BOS', 'BOS', 'BOS']\n",
      "truth: ['baby', 'pandas', 'are', 'crawling', 'on', 'a', 'bench', 'EOS', 'PAD', 'PAD', 'PAD', 'PAD', 'PAD', 'PAD', 'PAD', 'PAD', 'PAD', 'PAD', 'PAD', 'PAD', 'PAD', 'PAD', 'PAD', 'PAD', 'PAD', 'PAD', 'PAD', 'PAD', 'PAD', 'PAD', 'PAD', 'PAD', 'PAD', 'PAD', 'PAD', 'PAD', 'PAD', 'PAD', 'PAD', 'PAD', 'PAD']\n",
      "epoch 46: loss : 1.3772292137145996\n",
      "['a', 'man', 'is', 'crashing', 'his', 'bike', 'when', 'trying', 'to', 'stunt', 'a', 'stunt', 'EOS', 'BOS', 'BOS', 'BOS', 'BOS', 'BOS', 'BOS', 'BOS', 'BOS', 'BOS', 'BOS', 'BOS', 'BOS', 'BOS', 'BOS']\n",
      "truth: ['a', 'man', 'is', 'crashing', 'his', 'bike', 'when', 'trying', 'to', 'perform', 'a', 'stunt', 'EOS', 'PAD', 'PAD', 'PAD', 'PAD', 'PAD', 'PAD', 'PAD', 'PAD', 'PAD', 'PAD', 'PAD', 'PAD', 'PAD', 'PAD', 'PAD', 'PAD', 'PAD', 'PAD', 'PAD', 'PAD', 'PAD', 'PAD', 'PAD', 'PAD', 'PAD', 'PAD', 'PAD', 'PAD']\n",
      "epoch 47: loss : 1.251353144645691\n",
      "['a', 'boy', 'is', 'looking', 'out', 'a', 'window', 'EOS', 'BOS', 'BOS', 'BOS', 'BOS', 'BOS', 'BOS', 'BOS', 'BOS', 'BOS', 'BOS', 'BOS', 'BOS', 'BOS', 'BOS', 'BOS']\n",
      "truth: ['a', 'small', 'boy', 'is', 'looking', 'out', 'side', 'EOS', 'PAD', 'PAD', 'PAD', 'PAD', 'PAD', 'PAD', 'PAD', 'PAD', 'PAD', 'PAD', 'PAD', 'PAD', 'PAD', 'PAD', 'PAD', 'PAD', 'PAD', 'PAD', 'PAD', 'PAD', 'PAD', 'PAD', 'PAD', 'PAD', 'PAD', 'PAD', 'PAD', 'PAD', 'PAD', 'PAD', 'PAD', 'PAD', 'PAD']\n",
      "epoch 48: loss : 1.45012629032135\n",
      "['a', 'man', 'turns', 'chicken', 'UWK', 'on', 'a', 'baking', 'pan', 'EOS', 'BOS', 'BOS', 'BOS', 'BOS', 'BOS', 'BOS', 'BOS', 'BOS', 'BOS', 'BOS', 'BOS', 'BOS', 'BOS']\n",
      "truth: ['the', 'man', 'turned', 'the', 'chicken', 'over', 'on', 'the', 'cookie', 'sheet', 'EOS', 'PAD', 'PAD', 'PAD', 'PAD', 'PAD', 'PAD', 'PAD', 'PAD', 'PAD', 'PAD', 'PAD', 'PAD', 'PAD', 'PAD', 'PAD', 'PAD', 'PAD', 'PAD', 'PAD', 'PAD', 'PAD', 'PAD', 'PAD', 'PAD', 'PAD', 'PAD', 'PAD', 'PAD', 'PAD', 'PAD']\n",
      "epoch 49: loss : 1.45352041721344\n",
      "['a', 'man', 'is', 'putting', 'a', 'silencer', 'onto', 'a', 'pistol', 'EOS', 'BOS', 'BOS', 'BOS', 'BOS', 'BOS', 'BOS', 'BOS', 'BOS', 'BOS', 'BOS', 'BOS', 'BOS', 'BOS', 'BOS']\n",
      "truth: ['a', 'man', 'puts', 'a', 'silencer', 'on', 'a', 'handgun', 'EOS', 'PAD', 'PAD', 'PAD', 'PAD', 'PAD', 'PAD', 'PAD', 'PAD', 'PAD', 'PAD', 'PAD', 'PAD', 'PAD', 'PAD', 'PAD', 'PAD', 'PAD', 'PAD', 'PAD', 'PAD', 'PAD', 'PAD', 'PAD', 'PAD', 'PAD', 'PAD', 'PAD', 'PAD', 'PAD', 'PAD', 'PAD', 'PAD']\n",
      "epoch 50: loss : 1.4557260274887085\n",
      "['a', 'animal', 'is', 'eating', 'an', 'egg', 'EOS', 'BOS', 'BOS', 'BOS', 'BOS', 'BOS', 'BOS', 'BOS', 'BOS', 'BOS', 'BOS', 'BOS', 'BOS', 'BOS', 'BOS', 'BOS', 'BOS', 'BOS']\n",
      "truth: ['a', 'slow', 'loris', 'is', 'hanging', 'down', 'a', 'chair', 'and', 'eating', 'something', 'EOS', 'PAD', 'PAD', 'PAD', 'PAD', 'PAD', 'PAD', 'PAD', 'PAD', 'PAD', 'PAD', 'PAD', 'PAD', 'PAD', 'PAD', 'PAD', 'PAD', 'PAD', 'PAD', 'PAD', 'PAD', 'PAD', 'PAD', 'PAD', 'PAD', 'PAD', 'PAD', 'PAD', 'PAD', 'PAD']\n",
      "epoch 51: loss : 1.4429250955581665\n",
      "['a', 'bird', 'is', 'pecking', 'at', 'a', 'telephone', 'EOS', 'BOS', 'BOS', 'BOS', 'BOS', 'BOS', 'BOS', 'BOS', 'BOS', 'BOS', 'BOS']\n",
      "truth: ['a', 'bird', 'is', 'making', 'a', 'phone', 'call', 'with', 'its', 'beak', 'EOS', 'PAD', 'PAD', 'PAD', 'PAD', 'PAD', 'PAD', 'PAD', 'PAD', 'PAD', 'PAD', 'PAD', 'PAD', 'PAD', 'PAD', 'PAD', 'PAD', 'PAD', 'PAD', 'PAD', 'PAD', 'PAD', 'PAD', 'PAD', 'PAD', 'PAD', 'PAD', 'PAD', 'PAD', 'PAD', 'PAD']\n",
      "epoch 52: loss : 1.5251213312149048\n",
      "['a', 'man', 'is', 'playing', 'drums', 'EOS', 'BOS', 'BOS', 'BOS', 'BOS', 'BOS', 'BOS', 'BOS', 'BOS', 'BOS', 'BOS', 'BOS', 'BOS', 'BOS', 'BOS', 'BOS', 'BOS', 'BOS', 'BOS', 'BOS', 'BOS', 'BOS']\n",
      "truth: ['a', 'man', 'is', 'playing', 'the', 'drums', 'EOS', 'PAD', 'PAD', 'PAD', 'PAD', 'PAD', 'PAD', 'PAD', 'PAD', 'PAD', 'PAD', 'PAD', 'PAD', 'PAD', 'PAD', 'PAD', 'PAD', 'PAD', 'PAD', 'PAD', 'PAD', 'PAD', 'PAD', 'PAD', 'PAD', 'PAD', 'PAD', 'PAD', 'PAD', 'PAD', 'PAD', 'PAD', 'PAD', 'PAD', 'PAD']\n",
      "epoch 53: loss : 1.4559322595596313\n",
      "['a', 'man', 'is', 'rice', 'in', 'a', 'pan', 'EOS', 'BOS', 'BOS', 'BOS', 'BOS', 'BOS', 'BOS', 'BOS', 'BOS', 'BOS', 'BOS', 'BOS', 'BOS']\n",
      "truth: ['a', 'man', 'adds', 'ricearoni', 'to', 'a', 'pan', 'EOS', 'PAD', 'PAD', 'PAD', 'PAD', 'PAD', 'PAD', 'PAD', 'PAD', 'PAD', 'PAD', 'PAD', 'PAD', 'PAD', 'PAD', 'PAD', 'PAD', 'PAD', 'PAD', 'PAD', 'PAD', 'PAD', 'PAD', 'PAD', 'PAD', 'PAD', 'PAD', 'PAD', 'PAD', 'PAD', 'PAD', 'PAD', 'PAD', 'PAD']\n",
      "epoch 54: loss : 1.3169176578521729\n",
      "['a', 'person', 'is', 'burning', 'cameras', 'EOS', 'BOS', 'BOS', 'BOS', 'BOS', 'BOS', 'BOS', 'BOS', 'BOS', 'BOS', 'BOS', 'BOS', 'BOS', 'BOS', 'BOS', 'BOS', 'BOS', 'BOS', 'BOS', 'BOS']\n",
      "truth: ['someone', 'is', 'burning', 'cameras', 'with', 'a', 'blow', 'torch', 'EOS', 'PAD', 'PAD', 'PAD', 'PAD', 'PAD', 'PAD', 'PAD', 'PAD', 'PAD', 'PAD', 'PAD', 'PAD', 'PAD', 'PAD', 'PAD', 'PAD', 'PAD', 'PAD', 'PAD', 'PAD', 'PAD', 'PAD', 'PAD', 'PAD', 'PAD', 'PAD', 'PAD', 'PAD', 'PAD', 'PAD', 'PAD', 'PAD']\n",
      "epoch 55: loss : 1.387479543685913\n",
      "['a', 'man', 'is', 'making', 'a', 'noose', 'EOS', 'BOS', 'BOS', 'BOS', 'BOS', 'BOS', 'BOS', 'BOS', 'BOS', 'BOS', 'BOS', 'BOS', 'BOS', 'BOS', 'BOS', 'BOS', 'BOS']\n",
      "truth: ['a', 'man', 'ties', 'a', 'noose', 'EOS', 'PAD', 'PAD', 'PAD', 'PAD', 'PAD', 'PAD', 'PAD', 'PAD', 'PAD', 'PAD', 'PAD', 'PAD', 'PAD', 'PAD', 'PAD', 'PAD', 'PAD', 'PAD', 'PAD', 'PAD', 'PAD', 'PAD', 'PAD', 'PAD', 'PAD', 'PAD', 'PAD', 'PAD', 'PAD', 'PAD', 'PAD', 'PAD', 'PAD', 'PAD', 'PAD']\n",
      "epoch 56: loss : 1.432489037513733\n",
      "['a', 'man', 'is', 'putting', 'ingredients', 'into', 'a', 'blender', 'EOS', 'BOS', 'BOS', 'BOS', 'BOS', 'BOS', 'BOS', 'BOS', 'BOS', 'BOS', 'BOS', 'BOS', 'BOS', 'BOS']\n",
      "truth: ['someone', 'is', 'putting', 'peppers', 'spices', 'and', 'UWK', 'into', 'a', 'blender', 'EOS', 'PAD', 'PAD', 'PAD', 'PAD', 'PAD', 'PAD', 'PAD', 'PAD', 'PAD', 'PAD', 'PAD', 'PAD', 'PAD', 'PAD', 'PAD', 'PAD', 'PAD', 'PAD', 'PAD', 'PAD', 'PAD', 'PAD', 'PAD', 'PAD', 'PAD', 'PAD', 'PAD', 'PAD', 'PAD', 'PAD']\n",
      "epoch 57: loss : 1.4934380054473877\n",
      "['a', 'woman', 'is', 'slicing', 'some', 'tuna', 'EOS', 'BOS', 'BOS', 'BOS', 'BOS', 'BOS', 'BOS', 'BOS', 'BOS', 'BOS', 'BOS', 'BOS', 'BOS', 'BOS', 'BOS', 'BOS', 'BOS', 'BOS', 'BOS', 'BOS', 'BOS']\n",
      "truth: ['a', 'woman', 'is', 'slicing', 'tuna', 'to', 'make', 'sushi', 'EOS', 'PAD', 'PAD', 'PAD', 'PAD', 'PAD', 'PAD', 'PAD', 'PAD', 'PAD', 'PAD', 'PAD', 'PAD', 'PAD', 'PAD', 'PAD', 'PAD', 'PAD', 'PAD', 'PAD', 'PAD', 'PAD', 'PAD', 'PAD', 'PAD', 'PAD', 'PAD', 'PAD', 'PAD', 'PAD', 'PAD', 'PAD', 'PAD']\n",
      "epoch 58: loss : 1.3162062168121338\n",
      "['a', 'woman', 'is', 'cutting', 'raw', 'fish', 'EOS', 'BOS', 'BOS', 'BOS', 'BOS', 'BOS', 'BOS', 'BOS', 'BOS', 'BOS', 'BOS', 'BOS', 'BOS', 'BOS', 'BOS', 'BOS']\n",
      "truth: ['a', 'woman', 'is', 'cutting', 'meat', 'EOS', 'PAD', 'PAD', 'PAD', 'PAD', 'PAD', 'PAD', 'PAD', 'PAD', 'PAD', 'PAD', 'PAD', 'PAD', 'PAD', 'PAD', 'PAD', 'PAD', 'PAD', 'PAD', 'PAD', 'PAD', 'PAD', 'PAD', 'PAD', 'PAD', 'PAD', 'PAD', 'PAD', 'PAD', 'PAD', 'PAD', 'PAD', 'PAD', 'PAD', 'PAD', 'PAD']\n",
      "epoch 59: loss : 1.4424906969070435\n",
      "['a', 'man', 'is', 'putting', 'a', 'silencer', 'on', 'a', 'pistol', 'EOS', 'BOS', 'BOS', 'BOS', 'BOS', 'BOS', 'BOS', 'BOS', 'BOS', 'BOS', 'BOS']\n",
      "truth: ['a', 'man', 'put', 'a', 'gun', 'barrel', 'together', 'EOS', 'PAD', 'PAD', 'PAD', 'PAD', 'PAD', 'PAD', 'PAD', 'PAD', 'PAD', 'PAD', 'PAD', 'PAD', 'PAD', 'PAD', 'PAD', 'PAD', 'PAD', 'PAD', 'PAD', 'PAD', 'PAD', 'PAD', 'PAD', 'PAD', 'PAD', 'PAD', 'PAD', 'PAD', 'PAD', 'PAD', 'PAD', 'PAD', 'PAD']\n",
      "epoch 60: loss : 1.441380500793457\n",
      "['a', 'man', 'holding', 'an', 'open', 'umbrella', 'jumps', 'across', 'a', 'wooden', 'stand', 'in', 'a', 'park', 'and', 'then', 'does', 'a', 'UWK', 'after', 'kicking', 'a', 'wall', 'EOS']\n",
      "truth: ['a', 'man', 'with', 'an', 'umbrella', 'jumps', 'over', 'a', 'UWK', 'and', 'up', 'on', 'a', 'wall', 'EOS', 'PAD', 'PAD', 'PAD', 'PAD', 'PAD', 'PAD', 'PAD', 'PAD', 'PAD', 'PAD', 'PAD', 'PAD', 'PAD', 'PAD', 'PAD', 'PAD', 'PAD', 'PAD', 'PAD', 'PAD', 'PAD', 'PAD', 'PAD', 'PAD', 'PAD', 'PAD']\n",
      "epoch 61: loss : 1.6464420557022095\n",
      "['a', 'woman', 'is', 'dancing', 'EOS', 'BOS', 'BOS', 'BOS', 'BOS', 'BOS', 'BOS', 'BOS', 'BOS', 'BOS', 'BOS', 'BOS', 'BOS', 'BOS', 'BOS', 'BOS', 'BOS', 'BOS', 'BOS']\n",
      "truth: ['a', 'woman', 'is', 'dancing', 'EOS', 'PAD', 'PAD', 'PAD', 'PAD', 'PAD', 'PAD', 'PAD', 'PAD', 'PAD', 'PAD', 'PAD', 'PAD', 'PAD', 'PAD', 'PAD', 'PAD', 'PAD', 'PAD', 'PAD', 'PAD', 'PAD', 'PAD', 'PAD', 'PAD', 'PAD', 'PAD', 'PAD', 'PAD', 'PAD', 'PAD', 'PAD', 'PAD', 'PAD', 'PAD', 'PAD', 'PAD']\n",
      "epoch 62: loss : 1.3795113563537598\n",
      "['a', 'man', 'is', 'doing', 'yoga', 'EOS', 'BOS', 'BOS', 'BOS', 'BOS', 'BOS', 'BOS', 'BOS', 'BOS', 'BOS', 'BOS', 'BOS', 'BOS', 'BOS', 'BOS', 'BOS', 'BOS', 'BOS', 'BOS']\n",
      "truth: ['a', 'man', 'is', 'performing', 'yoga', 'EOS', 'PAD', 'PAD', 'PAD', 'PAD', 'PAD', 'PAD', 'PAD', 'PAD', 'PAD', 'PAD', 'PAD', 'PAD', 'PAD', 'PAD', 'PAD', 'PAD', 'PAD', 'PAD', 'PAD', 'PAD', 'PAD', 'PAD', 'PAD', 'PAD', 'PAD', 'PAD', 'PAD', 'PAD', 'PAD', 'PAD', 'PAD', 'PAD', 'PAD', 'PAD', 'PAD']\n",
      "epoch 63: loss : 1.5449167490005493\n",
      "['a', 'man', 'is', 'putting', 'eggs', 'EOS', 'BOS', 'BOS', 'BOS', 'BOS', 'BOS', 'BOS', 'BOS', 'BOS', 'BOS', 'BOS', 'BOS', 'BOS', 'BOS', 'BOS', 'BOS', 'BOS', 'BOS', 'BOS']\n",
      "truth: ['a', 'person', 'adds', 'cinnamon', 'and', 'vanilla', 'extract', 'to', 'eggs', 'EOS', 'PAD', 'PAD', 'PAD', 'PAD', 'PAD', 'PAD', 'PAD', 'PAD', 'PAD', 'PAD', 'PAD', 'PAD', 'PAD', 'PAD', 'PAD', 'PAD', 'PAD', 'PAD', 'PAD', 'PAD', 'PAD', 'PAD', 'PAD', 'PAD', 'PAD', 'PAD', 'PAD', 'PAD', 'PAD', 'PAD', 'PAD']\n",
      "epoch 64: loss : 1.5264720916748047\n",
      "['a', 'puppy', 'is', 'playing', 'on', 'a', 'sofa', 'EOS', 'BOS', 'BOS', 'BOS', 'BOS', 'BOS', 'BOS', 'BOS', 'BOS', 'BOS', 'BOS', 'BOS', 'BOS', 'BOS', 'BOS', 'BOS', 'BOS']\n",
      "truth: ['a', 'puppy', 'is', 'playing', 'on', 'sofa', 'EOS', 'PAD', 'PAD', 'PAD', 'PAD', 'PAD', 'PAD', 'PAD', 'PAD', 'PAD', 'PAD', 'PAD', 'PAD', 'PAD', 'PAD', 'PAD', 'PAD', 'PAD', 'PAD', 'PAD', 'PAD', 'PAD', 'PAD', 'PAD', 'PAD', 'PAD', 'PAD', 'PAD', 'PAD', 'PAD', 'PAD', 'PAD', 'PAD', 'PAD', 'PAD']\n",
      "epoch 65: loss : 1.4353950023651123\n",
      "['a', 'woman', 'is', 'dancing', 'EOS', 'BOS', 'BOS', 'BOS', 'BOS', 'BOS', 'BOS', 'BOS', 'BOS', 'BOS', 'BOS', 'BOS', 'BOS']\n",
      "truth: ['a', 'woman', 'is', 'dancing', 'while', 'sitting', 'on', 'some', 'steps', 'then', 'hits', 'her', 'UWK', 'EOS', 'PAD', 'PAD', 'PAD', 'PAD', 'PAD', 'PAD', 'PAD', 'PAD', 'PAD', 'PAD', 'PAD', 'PAD', 'PAD', 'PAD', 'PAD', 'PAD', 'PAD', 'PAD', 'PAD', 'PAD', 'PAD', 'PAD', 'PAD', 'PAD', 'PAD', 'PAD', 'PAD']\n",
      "epoch 66: loss : 1.6397926807403564\n",
      "['a', 'man', 'is', 'riding', 'a', 'bike', 'EOS', 'BOS', 'BOS', 'BOS', 'BOS', 'BOS', 'BOS', 'BOS', 'BOS', 'BOS', 'BOS', 'BOS', 'BOS', 'BOS', 'BOS', 'BOS', 'BOS', 'BOS', 'BOS', 'BOS', 'BOS']\n",
      "truth: ['a', 'man', 'rides', 'his', 'motorcycle', 'through', 'the', 'city', 'streets', 'EOS', 'PAD', 'PAD', 'PAD', 'PAD', 'PAD', 'PAD', 'PAD', 'PAD', 'PAD', 'PAD', 'PAD', 'PAD', 'PAD', 'PAD', 'PAD', 'PAD', 'PAD', 'PAD', 'PAD', 'PAD', 'PAD', 'PAD', 'PAD', 'PAD', 'PAD', 'PAD', 'PAD', 'PAD', 'PAD', 'PAD', 'PAD']\n",
      "epoch 67: loss : 1.5175821781158447\n",
      "['clouds', 'are', 'quickly', 'floating', 'past', 'a', 'building', 'EOS', 'BOS', 'BOS', 'BOS', 'BOS', 'BOS', 'BOS', 'BOS', 'BOS', 'BOS', 'BOS', 'BOS', 'BOS']\n",
      "truth: ['there', 'is', 'a', 'church', 'as', 'white', 'clouds', 'are', 'moving', 'in', 'the', 'overhead', 'sky', 'EOS', 'PAD', 'PAD', 'PAD', 'PAD', 'PAD', 'PAD', 'PAD', 'PAD', 'PAD', 'PAD', 'PAD', 'PAD', 'PAD', 'PAD', 'PAD', 'PAD', 'PAD', 'PAD', 'PAD', 'PAD', 'PAD', 'PAD', 'PAD', 'PAD', 'PAD', 'PAD', 'PAD']\n",
      "epoch 68: loss : 1.5491111278533936\n",
      "['a', 'man', 'serves', 'food', 'bunch', 'children', 'EOS', 'BOS', 'BOS', 'BOS', 'BOS', 'BOS', 'BOS', 'BOS', 'BOS', 'BOS', 'BOS', 'BOS']\n",
      "truth: ['people', 'are', 'eating', 'EOS', 'PAD', 'PAD', 'PAD', 'PAD', 'PAD', 'PAD', 'PAD', 'PAD', 'PAD', 'PAD', 'PAD', 'PAD', 'PAD', 'PAD', 'PAD', 'PAD', 'PAD', 'PAD', 'PAD', 'PAD', 'PAD', 'PAD', 'PAD', 'PAD', 'PAD', 'PAD', 'PAD', 'PAD', 'PAD', 'PAD', 'PAD', 'PAD', 'PAD', 'PAD', 'PAD', 'PAD', 'PAD']\n",
      "epoch 69: loss : 1.621110200881958\n",
      "['a', 'person', 'cuts', 'cutting', 'a', 'piece', 'of', 'pink', 'paper', 'with', 'a', 'pair', 'of', 'scissors', 'EOS', 'BOS', 'BOS', 'BOS', 'BOS']\n",
      "truth: ['a', 'person', 'is', 'cutting', 'a', 'piece', 'of', 'pink', 'paper', 'with', 'a', 'pair', 'of', 'scissors', 'EOS', 'PAD', 'PAD', 'PAD', 'PAD', 'PAD', 'PAD', 'PAD', 'PAD', 'PAD', 'PAD', 'PAD', 'PAD', 'PAD', 'PAD', 'PAD', 'PAD', 'PAD', 'PAD', 'PAD', 'PAD', 'PAD', 'PAD', 'PAD', 'PAD', 'PAD', 'PAD']\n",
      "epoch 70: loss : 1.5118359327316284\n",
      "['a', 'woman', 'is', 'walking', 'between', 'horse', 'legs', 'was', 'gets', 'pooped', 'on', 'head', 'between', 'the', 'horses', 'rear', 'legs', 'horse', 'horse', 'pooped', 'on', 'her', 'head', 'EOS', 'BOS', 'BOS', 'BOS']\n",
      "truth: ['a', 'girl', 'is', 'UWK', 'out', 'her', 'head', 'from', 'between', 'the', 'back', 'legs', 'of', 'a', 'horse', 'who', 'UWK', 'on', 'her', 'head', 'EOS', 'PAD', 'PAD', 'PAD', 'PAD', 'PAD', 'PAD', 'PAD', 'PAD', 'PAD', 'PAD', 'PAD', 'PAD', 'PAD', 'PAD', 'PAD', 'PAD', 'PAD', 'PAD', 'PAD', 'PAD']\n",
      "epoch 71: loss : 1.6990381479263306\n",
      "['a', 'man', 'is', 'putting', 'a', 'gun', 'together', 'EOS', 'BOS', 'BOS', 'BOS', 'BOS', 'BOS', 'BOS', 'BOS', 'BOS', 'BOS', 'BOS', 'BOS', 'BOS', 'BOS', 'BOS']\n",
      "truth: ['a', 'man', 'is', 'putting', 'a', 'silencer', 'onto', 'a', 'gun', 'EOS', 'PAD', 'PAD', 'PAD', 'PAD', 'PAD', 'PAD', 'PAD', 'PAD', 'PAD', 'PAD', 'PAD', 'PAD', 'PAD', 'PAD', 'PAD', 'PAD', 'PAD', 'PAD', 'PAD', 'PAD', 'PAD', 'PAD', 'PAD', 'PAD', 'PAD', 'PAD', 'PAD', 'PAD', 'PAD', 'PAD', 'PAD']\n",
      "epoch 72: loss : 1.5818086862564087\n",
      "['a', 'woman', 'is', 'rolling', 'dough', 'in', 'her', 'dough', 'EOS', 'BOS', 'BOS', 'BOS', 'BOS', 'BOS', 'BOS', 'BOS', 'BOS', 'BOS', 'BOS', 'BOS', 'BOS', 'BOS', 'BOS', 'BOS', 'BOS', 'BOS', 'BOS']\n",
      "truth: ['a', 'woman', 'rolls', 'small', 'portions', 'of', 'UWK', 'dough', 'between', 'her', 'UWK', 'and', 'makes', 'four', 'UWK', 'balls', 'EOS', 'PAD', 'PAD', 'PAD', 'PAD', 'PAD', 'PAD', 'PAD', 'PAD', 'PAD', 'PAD', 'PAD', 'PAD', 'PAD', 'PAD', 'PAD', 'PAD', 'PAD', 'PAD', 'PAD', 'PAD', 'PAD', 'PAD', 'PAD', 'PAD']\n",
      "epoch 73: loss : 1.598926067352295\n",
      "['a', 'squirrel', 'is', 'dancing', 'and', 'dancing', 'EOS', 'BOS', 'BOS', 'BOS', 'BOS', 'BOS', 'BOS', 'BOS', 'BOS', 'BOS', 'BOS', 'BOS', 'BOS', 'BOS', 'BOS', 'BOS', 'BOS', 'BOS', 'BOS', 'BOS', 'BOS']\n",
      "truth: ['a', 'squirrel', 'is', 'dancing', 'in', 'the', 'grass', 'EOS', 'PAD', 'PAD', 'PAD', 'PAD', 'PAD', 'PAD', 'PAD', 'PAD', 'PAD', 'PAD', 'PAD', 'PAD', 'PAD', 'PAD', 'PAD', 'PAD', 'PAD', 'PAD', 'PAD', 'PAD', 'PAD', 'PAD', 'PAD', 'PAD', 'PAD', 'PAD', 'PAD', 'PAD', 'PAD', 'PAD', 'PAD', 'PAD', 'PAD']\n",
      "epoch 74: loss : 1.64674711227417\n",
      "['a', 'woman', 'is', 'mincing', 'garlic', 'cloves', 'EOS', 'BOS', 'BOS', 'BOS', 'BOS', 'BOS', 'BOS', 'BOS', 'BOS', 'BOS', 'BOS', 'BOS']\n",
      "truth: ['a', 'person', 'with', 'a', 'knife', 'is', 'chopping', 'garlic', 'EOS', 'PAD', 'PAD', 'PAD', 'PAD', 'PAD', 'PAD', 'PAD', 'PAD', 'PAD', 'PAD', 'PAD', 'PAD', 'PAD', 'PAD', 'PAD', 'PAD', 'PAD', 'PAD', 'PAD', 'PAD', 'PAD', 'PAD', 'PAD', 'PAD', 'PAD', 'PAD', 'PAD', 'PAD', 'PAD', 'PAD', 'PAD', 'PAD']\n",
      "epoch 75: loss : 1.6490275859832764\n",
      "['a', 'bear', 'and', 'bear', 'are', 'chasing', 'each', 'other', 'EOS', 'BOS', 'BOS', 'BOS', 'BOS']\n",
      "truth: ['wolves', 'are', 'hunting', 'a', 'pig', 'EOS', 'PAD', 'PAD', 'PAD', 'PAD', 'PAD', 'PAD', 'PAD', 'PAD', 'PAD', 'PAD', 'PAD', 'PAD', 'PAD', 'PAD', 'PAD', 'PAD', 'PAD', 'PAD', 'PAD', 'PAD', 'PAD', 'PAD', 'PAD', 'PAD', 'PAD', 'PAD', 'PAD', 'PAD', 'PAD', 'PAD', 'PAD', 'PAD', 'PAD', 'PAD', 'PAD']\n",
      "epoch 76: loss : 1.9763333797454834\n",
      "['a', 'cat', 'is', 'swatting', 'a', 'toddler', 'on', 'the', 'head', 'EOS', 'BOS', 'BOS', 'BOS', 'BOS', 'BOS', 'BOS', 'BOS', 'BOS', 'BOS', 'BOS', 'BOS', 'BOS']\n",
      "truth: ['a', 'cat', 'is', 'attacking', 'the', 'head', 'of', 'a', 'toddler', 'EOS', 'PAD', 'PAD', 'PAD', 'PAD', 'PAD', 'PAD', 'PAD', 'PAD', 'PAD', 'PAD', 'PAD', 'PAD', 'PAD', 'PAD', 'PAD', 'PAD', 'PAD', 'PAD', 'PAD', 'PAD', 'PAD', 'PAD', 'PAD', 'PAD', 'PAD', 'PAD', 'PAD', 'PAD', 'PAD', 'PAD', 'PAD']\n",
      "epoch 77: loss : 1.5215421915054321\n",
      "['a', 'animal', 'is', 'eating', 'some', 'something', 'EOS', 'BOS', 'BOS', 'BOS', 'BOS', 'BOS', 'BOS', 'BOS', 'BOS', 'BOS', 'BOS', 'BOS', 'BOS', 'BOS', 'BOS', 'BOS']\n",
      "truth: ['the', 'animal', 'sat', 'on', 'the', 'arm', 'of', 'the', 'chair', 'and', 'ate', 'some', 'food', 'EOS', 'PAD', 'PAD', 'PAD', 'PAD', 'PAD', 'PAD', 'PAD', 'PAD', 'PAD', 'PAD', 'PAD', 'PAD', 'PAD', 'PAD', 'PAD', 'PAD', 'PAD', 'PAD', 'PAD', 'PAD', 'PAD', 'PAD', 'PAD', 'PAD', 'PAD', 'PAD', 'PAD']\n",
      "epoch 78: loss : 1.6451005935668945\n",
      "['a', 'cat', 'meows', 'EOS', 'BOS', 'BOS', 'BOS', 'BOS', 'BOS', 'BOS', 'BOS', 'BOS', 'BOS', 'BOS', 'BOS', 'BOS', 'BOS', 'BOS']\n",
      "truth: ['a', 'cat', 'is', 'meowing', 'EOS', 'PAD', 'PAD', 'PAD', 'PAD', 'PAD', 'PAD', 'PAD', 'PAD', 'PAD', 'PAD', 'PAD', 'PAD', 'PAD', 'PAD', 'PAD', 'PAD', 'PAD', 'PAD', 'PAD', 'PAD', 'PAD', 'PAD', 'PAD', 'PAD', 'PAD', 'PAD', 'PAD', 'PAD', 'PAD', 'PAD', 'PAD', 'PAD', 'PAD', 'PAD', 'PAD', 'PAD']\n",
      "epoch 79: loss : 1.4723656177520752\n",
      "['a', 'man', 'is', 'putting', 'some', 'ingredients', 'in', 'a', 'blender', 'EOS', 'BOS', 'BOS', 'BOS', 'BOS', 'BOS', 'BOS', 'BOS', 'BOS', 'BOS']\n",
      "truth: ['a', 'man', 'adds', 'mayonnaise', 'vegetable', 'oil', 'vinegar', 'garlic', 'pods', 'and', 'salt', 'to', 'jalapeno', 'peppers', 'in', 'a', 'blender', 'and', 'blends', 'it', 'all', 'EOS', 'PAD', 'PAD', 'PAD', 'PAD', 'PAD', 'PAD', 'PAD', 'PAD', 'PAD', 'PAD', 'PAD', 'PAD', 'PAD', 'PAD', 'PAD', 'PAD', 'PAD', 'PAD', 'PAD']\n",
      "epoch 80: loss : 1.8473570346832275\n",
      "['a', 'man', 'is', 'teaching', 'a', 'boy', 'how', 'to', 'cricket', 'cricket', 'EOS', 'BOS', 'BOS', 'BOS', 'BOS', 'BOS', 'BOS', 'BOS', 'BOS', 'BOS', 'BOS', 'BOS', 'BOS', 'BOS', 'BOS']\n",
      "truth: ['a', 'man', 'is', 'instructing', 'another', 'man', 'how', 'to', 'bat', 'in', 'cricket', 'EOS', 'PAD', 'PAD', 'PAD', 'PAD', 'PAD', 'PAD', 'PAD', 'PAD', 'PAD', 'PAD', 'PAD', 'PAD', 'PAD', 'PAD', 'PAD', 'PAD', 'PAD', 'PAD', 'PAD', 'PAD', 'PAD', 'PAD', 'PAD', 'PAD', 'PAD', 'PAD', 'PAD', 'PAD', 'PAD']\n",
      "epoch 81: loss : 1.622854232788086\n",
      "['a', 'baby', 'drinks', 'her', 'juice', 'EOS', 'BOS', 'BOS', 'BOS', 'BOS', 'BOS', 'BOS', 'BOS', 'BOS', 'BOS', 'BOS', 'BOS', 'BOS', 'BOS', 'BOS', 'BOS', 'BOS', 'BOS', 'BOS', 'BOS', 'BOS', 'BOS']\n",
      "truth: ['a', 'baby', 'girl', 'is', 'drinking', 'milk', 'EOS', 'PAD', 'PAD', 'PAD', 'PAD', 'PAD', 'PAD', 'PAD', 'PAD', 'PAD', 'PAD', 'PAD', 'PAD', 'PAD', 'PAD', 'PAD', 'PAD', 'PAD', 'PAD', 'PAD', 'PAD', 'PAD', 'PAD', 'PAD', 'PAD', 'PAD', 'PAD', 'PAD', 'PAD', 'PAD', 'PAD', 'PAD', 'PAD', 'PAD', 'PAD']\n",
      "epoch 82: loss : 1.782483458518982\n",
      "['a', 'person', 'is', 'burning', 'cameras', 'EOS', 'BOS', 'BOS', 'BOS', 'BOS', 'BOS', 'BOS', 'BOS', 'BOS', 'BOS', 'BOS', 'BOS', 'BOS', 'BOS', 'BOS', 'BOS']\n",
      "truth: ['someone', 'is', 'burning', 'cameras', 'with', 'a', 'torch', 'EOS', 'PAD', 'PAD', 'PAD', 'PAD', 'PAD', 'PAD', 'PAD', 'PAD', 'PAD', 'PAD', 'PAD', 'PAD', 'PAD', 'PAD', 'PAD', 'PAD', 'PAD', 'PAD', 'PAD', 'PAD', 'PAD', 'PAD', 'PAD', 'PAD', 'PAD', 'PAD', 'PAD', 'PAD', 'PAD', 'PAD', 'PAD', 'PAD', 'PAD']\n",
      "epoch 83: loss : 1.797865629196167\n",
      "['a', 'woman', 'is', 'slicing', 'tuna', 'EOS', 'BOS', 'BOS', 'BOS', 'BOS', 'BOS', 'BOS', 'BOS', 'BOS', 'BOS', 'BOS', 'BOS', 'BOS', 'BOS', 'BOS', 'BOS', 'BOS', 'BOS', 'BOS']\n",
      "truth: ['a', 'woman', 'is', 'cutting', 'meat', 'EOS', 'PAD', 'PAD', 'PAD', 'PAD', 'PAD', 'PAD', 'PAD', 'PAD', 'PAD', 'PAD', 'PAD', 'PAD', 'PAD', 'PAD', 'PAD', 'PAD', 'PAD', 'PAD', 'PAD', 'PAD', 'PAD', 'PAD', 'PAD', 'PAD', 'PAD', 'PAD', 'PAD', 'PAD', 'PAD', 'PAD', 'PAD', 'PAD', 'PAD', 'PAD', 'PAD']\n",
      "epoch 84: loss : 1.7071770429611206\n",
      "['a', 'puppy', 'is', 'playing', 'on', 'a', 'sofa', 'EOS', 'BOS', 'BOS', 'BOS', 'BOS', 'BOS', 'BOS', 'BOS', 'BOS', 'BOS', 'BOS', 'BOS', 'BOS', 'BOS', 'BOS', 'BOS', 'BOS']\n",
      "truth: ['a', 'puppy', 'is', 'playing', 'on', 'the', 'couch', 'EOS', 'PAD', 'PAD', 'PAD', 'PAD', 'PAD', 'PAD', 'PAD', 'PAD', 'PAD', 'PAD', 'PAD', 'PAD', 'PAD', 'PAD', 'PAD', 'PAD', 'PAD', 'PAD', 'PAD', 'PAD', 'PAD', 'PAD', 'PAD', 'PAD', 'PAD', 'PAD', 'PAD', 'PAD', 'PAD', 'PAD', 'PAD', 'PAD', 'PAD']\n",
      "epoch 85: loss : 1.7668554782867432\n",
      "['a', 'woman', 'is', 'UWK', 'UWK', 'che', 'EOS', 'BOS', 'BOS', 'BOS', 'BOS', 'BOS', 'BOS', 'BOS', 'BOS']\n",
      "truth: ['a', 'chef', 'whisks', 'a', 'food', 'mixture', 'EOS', 'PAD', 'PAD', 'PAD', 'PAD', 'PAD', 'PAD', 'PAD', 'PAD', 'PAD', 'PAD', 'PAD', 'PAD', 'PAD', 'PAD', 'PAD', 'PAD', 'PAD', 'PAD', 'PAD', 'PAD', 'PAD', 'PAD', 'PAD', 'PAD', 'PAD', 'PAD', 'PAD', 'PAD', 'PAD', 'PAD', 'PAD', 'PAD', 'PAD', 'PAD']\n",
      "epoch 86: loss : 1.8256652355194092\n",
      "['a', 'cook', 'is', 'added', 'ingredients', 'into', 'a', 'blender', 'EOS', 'BOS', 'BOS', 'BOS', 'BOS', 'BOS', 'BOS', 'BOS', 'BOS', 'BOS', 'BOS', 'BOS']\n",
      "truth: ['a', 'cook', 'is', 'putting', 'some', 'ingredients', 'in', 'a', 'blender', 'EOS', 'PAD', 'PAD', 'PAD', 'PAD', 'PAD', 'PAD', 'PAD', 'PAD', 'PAD', 'PAD', 'PAD', 'PAD', 'PAD', 'PAD', 'PAD', 'PAD', 'PAD', 'PAD', 'PAD', 'PAD', 'PAD', 'PAD', 'PAD', 'PAD', 'PAD', 'PAD', 'PAD', 'PAD', 'PAD', 'PAD', 'PAD']\n",
      "epoch 87: loss : 1.8568382263183594\n",
      "['a', 'person', 'is', 'placing', 'ingredients', 'into', 'a', 'blender', 'EOS', 'BOS', 'BOS', 'BOS', 'BOS', 'BOS', 'BOS', 'BOS', 'BOS', 'BOS', 'BOS', 'BOS']\n",
      "truth: ['someone', 'is', 'putting', 'peppers', 'spices', 'and', 'UWK', 'into', 'a', 'blender', 'EOS', 'PAD', 'PAD', 'PAD', 'PAD', 'PAD', 'PAD', 'PAD', 'PAD', 'PAD', 'PAD', 'PAD', 'PAD', 'PAD', 'PAD', 'PAD', 'PAD', 'PAD', 'PAD', 'PAD', 'PAD', 'PAD', 'PAD', 'PAD', 'PAD', 'PAD', 'PAD', 'PAD', 'PAD', 'PAD', 'PAD']\n",
      "epoch 88: loss : 1.6651965379714966\n",
      "['a', 'fish', 'swims', 'around', 'another', 'fish', 'underwater', 'EOS', 'BOS', 'BOS', 'BOS', 'BOS', 'BOS', 'BOS', 'BOS', 'BOS', 'BOS']\n",
      "truth: ['a', 'fish', 'swims', 'around', 'EOS', 'PAD', 'PAD', 'PAD', 'PAD', 'PAD', 'PAD', 'PAD', 'PAD', 'PAD', 'PAD', 'PAD', 'PAD', 'PAD', 'PAD', 'PAD', 'PAD', 'PAD', 'PAD', 'PAD', 'PAD', 'PAD', 'PAD', 'PAD', 'PAD', 'PAD', 'PAD', 'PAD', 'PAD', 'PAD', 'PAD', 'PAD', 'PAD', 'PAD', 'PAD', 'PAD', 'PAD']\n",
      "epoch 89: loss : 1.8162224292755127\n",
      "['a', 'man', 'is', 'dancing', 'on', 'a', 'stage', 'EOS', 'BOS', 'BOS', 'BOS', 'BOS', 'BOS', 'BOS', 'BOS', 'BOS', 'BOS', 'BOS', 'BOS', 'BOS', 'BOS', 'BOS']\n",
      "truth: ['a', 'man', 'is', 'dancing', 'onstage', 'EOS', 'PAD', 'PAD', 'PAD', 'PAD', 'PAD', 'PAD', 'PAD', 'PAD', 'PAD', 'PAD', 'PAD', 'PAD', 'PAD', 'PAD', 'PAD', 'PAD', 'PAD', 'PAD', 'PAD', 'PAD', 'PAD', 'PAD', 'PAD', 'PAD', 'PAD', 'PAD', 'PAD', 'PAD', 'PAD', 'PAD', 'PAD', 'PAD', 'PAD', 'PAD', 'PAD']\n",
      "epoch 90: loss : 1.8323965072631836\n",
      "['a', 'man', 'puts', 'putting', 'broccoli', 'into', 'a', 'bowl', 'of', 'cool', 'water', 'EOS', 'BOS', 'BOS', 'BOS', 'BOS', 'BOS', 'BOS', 'BOS', 'BOS', 'BOS', 'BOS', 'BOS', 'BOS']\n",
      "truth: ['someone', 'cooked', 'broccoli', 'in', 'hot', 'water', 'EOS', 'PAD', 'PAD', 'PAD', 'PAD', 'PAD', 'PAD', 'PAD', 'PAD', 'PAD', 'PAD', 'PAD', 'PAD', 'PAD', 'PAD', 'PAD', 'PAD', 'PAD', 'PAD', 'PAD', 'PAD', 'PAD', 'PAD', 'PAD', 'PAD', 'PAD', 'PAD', 'PAD', 'PAD', 'PAD', 'PAD', 'PAD', 'PAD', 'PAD', 'PAD']\n",
      "epoch 91: loss : 1.7774386405944824\n",
      "['a', 'man', 'in', 'a', 'gorilla', 'costume', 'is', 'playing', 'the', 'bongos', 'a', 'store', 'EOS', 'BOS', 'BOS', 'BOS', 'BOS', 'BOS', 'BOS', 'BOS', 'BOS', 'BOS', 'BOS', 'BOS', 'BOS', 'BOS', 'BOS', 'BOS', 'BOS', 'BOS', 'BOS']\n",
      "truth: ['the', 'man', 'dressed', 'in', 'a', 'gorilla', 'suit', 'is', 'teasing', 'a', 'customer', 'EOS', 'PAD', 'PAD', 'PAD', 'PAD', 'PAD', 'PAD', 'PAD', 'PAD', 'PAD', 'PAD', 'PAD', 'PAD', 'PAD', 'PAD', 'PAD', 'PAD', 'PAD', 'PAD', 'PAD', 'PAD', 'PAD', 'PAD', 'PAD', 'PAD', 'PAD', 'PAD', 'PAD', 'PAD', 'PAD']\n",
      "epoch 92: loss : 1.7483296394348145\n",
      "['a', 'woman', 'is', 'peeling', 'a', 'orange', 'EOS', 'BOS', 'BOS', 'BOS', 'BOS', 'BOS', 'BOS', 'BOS', 'BOS', 'BOS', 'BOS', 'BOS', 'BOS', 'BOS']\n",
      "truth: ['a', 'woman', 'makes', 'a', 'fine', 'cut', 'on', 'a', 'vegetable', 'EOS', 'PAD', 'PAD', 'PAD', 'PAD', 'PAD', 'PAD', 'PAD', 'PAD', 'PAD', 'PAD', 'PAD', 'PAD', 'PAD', 'PAD', 'PAD', 'PAD', 'PAD', 'PAD', 'PAD', 'PAD', 'PAD', 'PAD', 'PAD', 'PAD', 'PAD', 'PAD', 'PAD', 'PAD', 'PAD', 'PAD', 'PAD']\n",
      "epoch 93: loss : 1.951524019241333\n",
      "['a', 'man', 'is', 'turning', 'chicken', 'wings', 'on', 'a', 'cookie', 'EOS', 'BOS', 'BOS', 'BOS', 'BOS', 'BOS', 'BOS', 'BOS', 'BOS', 'BOS', 'BOS', 'BOS', 'BOS']\n",
      "truth: ['a', 'man', 'flips', 'over', 'some', 'chicken', 'EOS', 'PAD', 'PAD', 'PAD', 'PAD', 'PAD', 'PAD', 'PAD', 'PAD', 'PAD', 'PAD', 'PAD', 'PAD', 'PAD', 'PAD', 'PAD', 'PAD', 'PAD', 'PAD', 'PAD', 'PAD', 'PAD', 'PAD', 'PAD', 'PAD', 'PAD', 'PAD', 'PAD', 'PAD', 'PAD', 'PAD', 'PAD', 'PAD', 'PAD', 'PAD']\n",
      "epoch 94: loss : 1.863897681236267\n",
      "['a', 'woman', 'is', 'wrapping', 'a', 'block', 'of', 'tofu', 'in', 'paper', 'EOS', 'BOS', 'BOS', 'BOS', 'BOS', 'BOS', 'BOS', 'BOS', 'BOS', 'BOS', 'BOS', 'BOS', 'BOS', 'BOS', 'BOS', 'BOS', 'BOS']\n",
      "truth: ['a', 'woman', 'is', 'wrapping', 'tofu', 'in', 'UWK', 'EOS', 'PAD', 'PAD', 'PAD', 'PAD', 'PAD', 'PAD', 'PAD', 'PAD', 'PAD', 'PAD', 'PAD', 'PAD', 'PAD', 'PAD', 'PAD', 'PAD', 'PAD', 'PAD', 'PAD', 'PAD', 'PAD', 'PAD', 'PAD', 'PAD', 'PAD', 'PAD', 'PAD', 'PAD', 'PAD', 'PAD', 'PAD', 'PAD', 'PAD']\n",
      "epoch 95: loss : 1.8985117673873901\n",
      "['a', 'are', 'coming', 'out', 'from', 'the', 'car', 'EOS', 'BOS', 'BOS', 'BOS', 'BOS', 'BOS', 'BOS', 'BOS', 'BOS', 'BOS', 'BOS', 'BOS']\n",
      "truth: ['a', 'woman', 'gets', 'out', 'of', 'a', 'cab', 'EOS', 'PAD', 'PAD', 'PAD', 'PAD', 'PAD', 'PAD', 'PAD', 'PAD', 'PAD', 'PAD', 'PAD', 'PAD', 'PAD', 'PAD', 'PAD', 'PAD', 'PAD', 'PAD', 'PAD', 'PAD', 'PAD', 'PAD', 'PAD', 'PAD', 'PAD', 'PAD', 'PAD', 'PAD', 'PAD', 'PAD', 'PAD', 'PAD', 'PAD']\n",
      "epoch 96: loss : 1.856740117073059\n",
      "['a', 'baby', 'picks', 'up', 'up', 'a', 'phone', 'phone', 'holding', 'it', 'in', 'her', 'hand', 'EOS', 'BOS', 'BOS', 'BOS', 'BOS', 'BOS', 'BOS', 'BOS', 'BOS', 'BOS', 'BOS', 'BOS', 'BOS', 'BOS', 'BOS', 'BOS', 'BOS', 'BOS', 'BOS']\n",
      "truth: ['a', 'baby', 'is', 'hanging', 'up', 'a', 'phone', 'EOS', 'PAD', 'PAD', 'PAD', 'PAD', 'PAD', 'PAD', 'PAD', 'PAD', 'PAD', 'PAD', 'PAD', 'PAD', 'PAD', 'PAD', 'PAD', 'PAD', 'PAD', 'PAD', 'PAD', 'PAD', 'PAD', 'PAD', 'PAD', 'PAD', 'PAD', 'PAD', 'PAD', 'PAD', 'PAD', 'PAD', 'PAD', 'PAD', 'PAD']\n",
      "epoch 97: loss : 1.845444679260254\n",
      "['a', 'baby', 'girl', 'is', 'drinking', 'from', 'her', 'cup', 'EOS', 'BOS', 'BOS', 'BOS', 'BOS', 'BOS', 'BOS', 'BOS', 'BOS', 'BOS', 'BOS']\n",
      "truth: ['the', 'girl', 'took', 'a', 'drink', 'from', 'her', 'cup', 'EOS', 'PAD', 'PAD', 'PAD', 'PAD', 'PAD', 'PAD', 'PAD', 'PAD', 'PAD', 'PAD', 'PAD', 'PAD', 'PAD', 'PAD', 'PAD', 'PAD', 'PAD', 'PAD', 'PAD', 'PAD', 'PAD', 'PAD', 'PAD', 'PAD', 'PAD', 'PAD', 'PAD', 'PAD', 'PAD', 'PAD', 'PAD', 'PAD']\n",
      "epoch 98: loss : 1.7634961605072021\n",
      "['a', 'man', 'is', 'preparing', 'some', 'dishes', 'EOS', 'BOS', 'BOS', 'BOS', 'BOS', 'BOS', 'BOS', 'BOS', 'BOS', 'BOS', 'BOS', 'BOS', 'BOS', 'BOS', 'BOS', 'BOS', 'BOS', 'BOS', 'BOS', 'BOS', 'BOS', 'BOS', 'BOS', 'BOS', 'BOS', 'BOS']\n",
      "truth: ['someone', 'is', 'mixing', 'salt', 'and', 'pepper', 'EOS', 'PAD', 'PAD', 'PAD', 'PAD', 'PAD', 'PAD', 'PAD', 'PAD', 'PAD', 'PAD', 'PAD', 'PAD', 'PAD', 'PAD', 'PAD', 'PAD', 'PAD', 'PAD', 'PAD', 'PAD', 'PAD', 'PAD', 'PAD', 'PAD', 'PAD', 'PAD', 'PAD', 'PAD', 'PAD', 'PAD', 'PAD', 'PAD', 'PAD', 'PAD']\n",
      "epoch 99: loss : 1.7728253602981567\n",
      "['a', 'man', 'is', 'serving', 'plates', 'to', 'the', 'EOS', 'BOS', 'BOS', 'BOS', 'BOS', 'BOS', 'BOS', 'BOS', 'BOS', 'BOS', 'BOS', 'BOS', 'BOS', 'BOS', 'BOS', 'BOS', 'BOS', 'BOS']\n",
      "truth: ['a', 'waiter', 'serves', 'four', 'kids', 'at', 'a', 'UWK', 'EOS', 'PAD', 'PAD', 'PAD', 'PAD', 'PAD', 'PAD', 'PAD', 'PAD', 'PAD', 'PAD', 'PAD', 'PAD', 'PAD', 'PAD', 'PAD', 'PAD', 'PAD', 'PAD', 'PAD', 'PAD', 'PAD', 'PAD', 'PAD', 'PAD', 'PAD', 'PAD', 'PAD', 'PAD', 'PAD', 'PAD', 'PAD', 'PAD']\n",
      "epoch 100: loss : 1.88923180103302\n",
      "['a', 'man', 'is', 'talking', 'EOS', 'BOS', 'BOS', 'BOS', 'BOS', 'BOS', 'BOS', 'BOS', 'BOS', 'BOS', 'BOS', 'BOS', 'BOS', 'BOS', 'BOS', 'BOS', 'BOS', 'BOS', 'BOS', 'BOS', 'BOS', 'BOS', 'BOS', 'BOS']\n",
      "truth: ['a', 'man', 'is', 'talking', 'to', 'someone', 'UWK', 'EOS', 'PAD', 'PAD', 'PAD', 'PAD', 'PAD', 'PAD', 'PAD', 'PAD', 'PAD', 'PAD', 'PAD', 'PAD', 'PAD', 'PAD', 'PAD', 'PAD', 'PAD', 'PAD', 'PAD', 'PAD', 'PAD', 'PAD', 'PAD', 'PAD', 'PAD', 'PAD', 'PAD', 'PAD', 'PAD', 'PAD', 'PAD', 'PAD', 'PAD']\n",
      "epoch 101: loss : 1.9470010995864868\n",
      "['a', 'person', 'is', 'two', 'side', 'by', 'side', 'with', 'a', 'spray', 'EOS', 'BOS', 'BOS', 'BOS', 'BOS', 'BOS', 'BOS', 'BOS', 'BOS', 'BOS', 'BOS']\n",
      "truth: ['someone', 'is', 'setting', 'two', 'cameras', 'on', 'fire', 'with', 'a', 'spray', 'EOS', 'PAD', 'PAD', 'PAD', 'PAD', 'PAD', 'PAD', 'PAD', 'PAD', 'PAD', 'PAD', 'PAD', 'PAD', 'PAD', 'PAD', 'PAD', 'PAD', 'PAD', 'PAD', 'PAD', 'PAD', 'PAD', 'PAD', 'PAD', 'PAD', 'PAD', 'PAD', 'PAD', 'PAD', 'PAD', 'PAD']\n",
      "epoch 102: loss : 1.895581603050232\n",
      "['a', 'woman', 'is', 'peeling', 'a', 'peel', 'EOS', 'BOS', 'BOS', 'BOS', 'BOS', 'BOS', 'BOS', 'BOS', 'BOS', 'BOS', 'BOS']\n",
      "truth: ['a', 'woman', 'slices', 'orange', 'peel', 'EOS', 'PAD', 'PAD', 'PAD', 'PAD', 'PAD', 'PAD', 'PAD', 'PAD', 'PAD', 'PAD', 'PAD', 'PAD', 'PAD', 'PAD', 'PAD', 'PAD', 'PAD', 'PAD', 'PAD', 'PAD', 'PAD', 'PAD', 'PAD', 'PAD', 'PAD', 'PAD', 'PAD', 'PAD', 'PAD', 'PAD', 'PAD', 'PAD', 'PAD', 'PAD', 'PAD']\n",
      "epoch 103: loss : 1.947513461112976\n",
      "['two', 'zebra', 'are', 'rubbing', 'their', 'heads', 'EOS', 'BOS', 'BOS', 'BOS', 'BOS', 'BOS']\n",
      "truth: ['two', 'zebras', 'are', 'playing', 'with', 'each', 'other', 'EOS', 'PAD', 'PAD', 'PAD', 'PAD', 'PAD', 'PAD', 'PAD', 'PAD', 'PAD', 'PAD', 'PAD', 'PAD', 'PAD', 'PAD', 'PAD', 'PAD', 'PAD', 'PAD', 'PAD', 'PAD', 'PAD', 'PAD', 'PAD', 'PAD', 'PAD', 'PAD', 'PAD', 'PAD', 'PAD', 'PAD', 'PAD', 'PAD', 'PAD']\n",
      "epoch 104: loss : 1.8071587085723877\n",
      "['a', 'otters', 'are', 'playing', 'in', 'the', 'water', 'EOS', 'BOS', 'BOS', 'BOS', 'BOS', 'BOS', 'BOS', 'BOS', 'BOS', 'BOS', 'BOS', 'BOS', 'BOS', 'BOS', 'BOS', 'BOS', 'BOS', 'BOS']\n",
      "truth: ['otters', 'are', 'playing', 'in', 'the', 'water', 'EOS', 'PAD', 'PAD', 'PAD', 'PAD', 'PAD', 'PAD', 'PAD', 'PAD', 'PAD', 'PAD', 'PAD', 'PAD', 'PAD', 'PAD', 'PAD', 'PAD', 'PAD', 'PAD', 'PAD', 'PAD', 'PAD', 'PAD', 'PAD', 'PAD', 'PAD', 'PAD', 'PAD', 'PAD', 'PAD', 'PAD', 'PAD', 'PAD', 'PAD', 'PAD']\n",
      "epoch 105: loss : 1.9352946281433105\n",
      "['a', 'man', 'and', 'woman', 'are', 'ride', 'a', 'a', 'a', 'bicycle', 'EOS', 'BOS', 'BOS', 'BOS', 'BOS', 'BOS', 'BOS', 'BOS', 'BOS', 'BOS', 'BOS', 'BOS', 'BOS', 'BOS']\n",
      "truth: ['people', 'are', 'riding', 'a', 'bike', 'EOS', 'PAD', 'PAD', 'PAD', 'PAD', 'PAD', 'PAD', 'PAD', 'PAD', 'PAD', 'PAD', 'PAD', 'PAD', 'PAD', 'PAD', 'PAD', 'PAD', 'PAD', 'PAD', 'PAD', 'PAD', 'PAD', 'PAD', 'PAD', 'PAD', 'PAD', 'PAD', 'PAD', 'PAD', 'PAD', 'PAD', 'PAD', 'PAD', 'PAD', 'PAD', 'PAD']\n",
      "epoch 106: loss : 1.7224947214126587\n",
      "['a', 'man', 'is', 'writing', 'a', 'a', 'equation', 'a', 'white', 'board', 'EOS', 'BOS', 'BOS', 'BOS', 'BOS', 'BOS', 'BOS', 'BOS', 'BOS', 'BOS', 'BOS', 'BOS']\n",
      "truth: ['a', 'man', 'is', 'writing', 'an', 'algebraic', 'UWK', 'on', 'a', 'whiteboard', 'EOS', 'PAD', 'PAD', 'PAD', 'PAD', 'PAD', 'PAD', 'PAD', 'PAD', 'PAD', 'PAD', 'PAD', 'PAD', 'PAD', 'PAD', 'PAD', 'PAD', 'PAD', 'PAD', 'PAD', 'PAD', 'PAD', 'PAD', 'PAD', 'PAD', 'PAD', 'PAD', 'PAD', 'PAD', 'PAD', 'PAD']\n",
      "epoch 107: loss : 1.9308034181594849\n",
      "['a', 'man', 'is', 'playing', 'guitar', 'EOS', 'BOS', 'BOS', 'BOS', 'BOS', 'BOS', 'BOS', 'BOS', 'BOS', 'BOS', 'BOS', 'BOS', 'BOS', 'BOS', 'BOS', 'BOS']\n",
      "truth: ['a', 'man', 'plays', 'the', 'guitar', 'EOS', 'PAD', 'PAD', 'PAD', 'PAD', 'PAD', 'PAD', 'PAD', 'PAD', 'PAD', 'PAD', 'PAD', 'PAD', 'PAD', 'PAD', 'PAD', 'PAD', 'PAD', 'PAD', 'PAD', 'PAD', 'PAD', 'PAD', 'PAD', 'PAD', 'PAD', 'PAD', 'PAD', 'PAD', 'PAD', 'PAD', 'PAD', 'PAD', 'PAD', 'PAD', 'PAD']\n",
      "epoch 108: loss : 1.9176992177963257\n",
      "['a', 'cat', 'is', 'tapping', 'a', 'dogs', 'EOS', 'BOS', 'BOS', 'BOS', 'BOS', 'BOS', 'BOS', 'BOS', 'BOS', 'BOS', 'BOS', 'BOS', 'BOS', 'BOS', 'BOS', 'BOS', 'BOS']\n",
      "truth: ['a', 'cat', 'is', 'tapping', 'a', 'dogs', 'head', 'EOS', 'PAD', 'PAD', 'PAD', 'PAD', 'PAD', 'PAD', 'PAD', 'PAD', 'PAD', 'PAD', 'PAD', 'PAD', 'PAD', 'PAD', 'PAD', 'PAD', 'PAD', 'PAD', 'PAD', 'PAD', 'PAD', 'PAD', 'PAD', 'PAD', 'PAD', 'PAD', 'PAD', 'PAD', 'PAD', 'PAD', 'PAD', 'PAD', 'PAD']\n",
      "epoch 109: loss : 1.7928974628448486\n",
      "['a', 'cat', 'is', 'meowing', 'EOS', 'BOS', 'BOS', 'BOS', 'BOS', 'BOS', 'BOS', 'BOS', 'BOS', 'BOS', 'BOS', 'BOS', 'BOS', 'BOS', 'BOS', 'BOS', 'BOS']\n",
      "truth: ['a', 'cat', 'meows', 'EOS', 'PAD', 'PAD', 'PAD', 'PAD', 'PAD', 'PAD', 'PAD', 'PAD', 'PAD', 'PAD', 'PAD', 'PAD', 'PAD', 'PAD', 'PAD', 'PAD', 'PAD', 'PAD', 'PAD', 'PAD', 'PAD', 'PAD', 'PAD', 'PAD', 'PAD', 'PAD', 'PAD', 'PAD', 'PAD', 'PAD', 'PAD', 'PAD', 'PAD', 'PAD', 'PAD', 'PAD', 'PAD']\n",
      "epoch 110: loss : 1.9058301448822021\n",
      "['a', 'woman', 'is', 'dancing', 'EOS', 'BOS', 'BOS', 'BOS', 'BOS', 'BOS', 'BOS', 'BOS', 'BOS', 'BOS', 'BOS', 'BOS', 'BOS', 'BOS', 'BOS']\n",
      "truth: ['a', 'woman', 'is', 'dancing', 'EOS', 'PAD', 'PAD', 'PAD', 'PAD', 'PAD', 'PAD', 'PAD', 'PAD', 'PAD', 'PAD', 'PAD', 'PAD', 'PAD', 'PAD', 'PAD', 'PAD', 'PAD', 'PAD', 'PAD', 'PAD', 'PAD', 'PAD', 'PAD', 'PAD', 'PAD', 'PAD', 'PAD', 'PAD', 'PAD', 'PAD', 'PAD', 'PAD', 'PAD', 'PAD', 'PAD', 'PAD']\n",
      "epoch 111: loss : 1.9809633493423462\n",
      "['a', 'woman', 'is', 'slicing', 'raw', 'EOS', 'BOS', 'BOS', 'BOS', 'BOS', 'BOS', 'BOS', 'BOS', 'BOS', 'BOS', 'BOS', 'BOS', 'BOS', 'BOS', 'BOS', 'BOS', 'BOS', 'BOS', 'BOS']\n",
      "truth: ['the', 'lady', 'sliced', 'the', 'raw', 'meat', 'EOS', 'PAD', 'PAD', 'PAD', 'PAD', 'PAD', 'PAD', 'PAD', 'PAD', 'PAD', 'PAD', 'PAD', 'PAD', 'PAD', 'PAD', 'PAD', 'PAD', 'PAD', 'PAD', 'PAD', 'PAD', 'PAD', 'PAD', 'PAD', 'PAD', 'PAD', 'PAD', 'PAD', 'PAD', 'PAD', 'PAD', 'PAD', 'PAD', 'PAD', 'PAD']\n",
      "epoch 112: loss : 1.8039779663085938\n",
      "['a', 'man', 'is', 'talking', 'EOS', 'BOS', 'BOS', 'BOS', 'BOS', 'BOS', 'BOS', 'BOS', 'BOS', 'BOS', 'BOS', 'BOS', 'BOS', 'BOS', 'BOS', 'BOS', 'BOS', 'BOS', 'BOS', 'BOS', 'BOS', 'BOS', 'BOS', 'BOS', 'BOS', 'BOS', 'BOS', 'BOS', 'BOS', 'BOS', 'BOS', 'BOS', 'BOS', 'BOS']\n",
      "truth: ['a', 'bearded', 'man', 'seated', 'in', 'an', 'UWK', 'UWK', 'is', 'giving', 'his', 'opinion', 'EOS', 'PAD', 'PAD', 'PAD', 'PAD', 'PAD', 'PAD', 'PAD', 'PAD', 'PAD', 'PAD', 'PAD', 'PAD', 'PAD', 'PAD', 'PAD', 'PAD', 'PAD', 'PAD', 'PAD', 'PAD', 'PAD', 'PAD', 'PAD', 'PAD', 'PAD', 'PAD', 'PAD', 'PAD']\n",
      "epoch 113: loss : 1.8112064599990845\n",
      "['a', 'puppy', 'tried', 'playing', 'on', 'a', 'the', 'sofa', 'EOS', 'BOS', 'BOS', 'BOS', 'BOS', 'BOS', 'BOS', 'BOS', 'BOS', 'BOS', 'BOS', 'BOS', 'BOS', 'BOS', 'BOS', 'BOS']\n",
      "truth: ['a', 'puppy', 'is', 'playing', 'on', 'the', 'couch', 'EOS', 'PAD', 'PAD', 'PAD', 'PAD', 'PAD', 'PAD', 'PAD', 'PAD', 'PAD', 'PAD', 'PAD', 'PAD', 'PAD', 'PAD', 'PAD', 'PAD', 'PAD', 'PAD', 'PAD', 'PAD', 'PAD', 'PAD', 'PAD', 'PAD', 'PAD', 'PAD', 'PAD', 'PAD', 'PAD', 'PAD', 'PAD', 'PAD', 'PAD']\n",
      "epoch 114: loss : 1.6414183378219604\n",
      "['a', 'bear', 'is', 'a', 'bear', 'EOS', 'BOS', 'BOS', 'BOS', 'BOS', 'BOS', 'BOS', 'BOS', 'BOS', 'BOS', 'BOS', 'BOS', 'BOS', 'BOS', 'BOS', 'BOS', 'BOS', 'BOS', 'BOS']\n",
      "truth: ['a', 'bear', 'and', 'wolves', 'fight', 'EOS', 'PAD', 'PAD', 'PAD', 'PAD', 'PAD', 'PAD', 'PAD', 'PAD', 'PAD', 'PAD', 'PAD', 'PAD', 'PAD', 'PAD', 'PAD', 'PAD', 'PAD', 'PAD', 'PAD', 'PAD', 'PAD', 'PAD', 'PAD', 'PAD', 'PAD', 'PAD', 'PAD', 'PAD', 'PAD', 'PAD', 'PAD', 'PAD', 'PAD', 'PAD', 'PAD']\n",
      "epoch 115: loss : 1.9098665714263916\n",
      "['a', 'woman', 'is', 'cracking', 'eggs', 'into', 'a', 'bowl', 'EOS', 'BOS', 'BOS', 'BOS', 'BOS', 'BOS', 'BOS', 'BOS', 'BOS', 'BOS']\n",
      "truth: ['a', 'woman', 'is', 'cracking', 'open', 'eggs', 'into', 'a', 'bowl', 'EOS', 'PAD', 'PAD', 'PAD', 'PAD', 'PAD', 'PAD', 'PAD', 'PAD', 'PAD', 'PAD', 'PAD', 'PAD', 'PAD', 'PAD', 'PAD', 'PAD', 'PAD', 'PAD', 'PAD', 'PAD', 'PAD', 'PAD', 'PAD', 'PAD', 'PAD', 'PAD', 'PAD', 'PAD', 'PAD', 'PAD', 'PAD']\n",
      "epoch 116: loss : 1.761199951171875\n",
      "['baby', 'otters', 'are', 'playing', 'in', 'water', 'water', 'EOS', 'BOS', 'BOS', 'BOS', 'BOS', 'BOS', 'BOS', 'BOS', 'BOS', 'BOS', 'BOS']\n",
      "truth: ['baby', 'otters', 'are', 'playing', 'in', 'the', 'water', 'EOS', 'PAD', 'PAD', 'PAD', 'PAD', 'PAD', 'PAD', 'PAD', 'PAD', 'PAD', 'PAD', 'PAD', 'PAD', 'PAD', 'PAD', 'PAD', 'PAD', 'PAD', 'PAD', 'PAD', 'PAD', 'PAD', 'PAD', 'PAD', 'PAD', 'PAD', 'PAD', 'PAD', 'PAD', 'PAD', 'PAD', 'PAD', 'PAD', 'PAD']\n",
      "epoch 117: loss : 1.738091230392456\n",
      "['a', 'dog', 'is', 'opening', 'refrigerator', 'from', 'EOS', 'BOS', 'BOS', 'BOS', 'BOS', 'BOS', 'BOS', 'BOS', 'BOS', 'BOS', 'BOS', 'BOS', 'BOS']\n",
      "truth: ['a', 'dog', 'is', 'UWK', 'food', 'from', 'a', 'refrigerator', 'EOS', 'PAD', 'PAD', 'PAD', 'PAD', 'PAD', 'PAD', 'PAD', 'PAD', 'PAD', 'PAD', 'PAD', 'PAD', 'PAD', 'PAD', 'PAD', 'PAD', 'PAD', 'PAD', 'PAD', 'PAD', 'PAD', 'PAD', 'PAD', 'PAD', 'PAD', 'PAD', 'PAD', 'PAD', 'PAD', 'PAD', 'PAD', 'PAD']\n",
      "epoch 118: loss : 1.7951323986053467\n",
      "['a', 'man', 'is', 'erasing', 'a', 'chalk', 'board', 'had', 'EOS', 'BOS', 'BOS', 'BOS', 'BOS', 'BOS', 'BOS', 'BOS', 'BOS', 'BOS']\n",
      "truth: ['the', 'man', 'UWK', 'the', 'work', 'on', 'the', 'board', 'EOS', 'PAD', 'PAD', 'PAD', 'PAD', 'PAD', 'PAD', 'PAD', 'PAD', 'PAD', 'PAD', 'PAD', 'PAD', 'PAD', 'PAD', 'PAD', 'PAD', 'PAD', 'PAD', 'PAD', 'PAD', 'PAD', 'PAD', 'PAD', 'PAD', 'PAD', 'PAD', 'PAD', 'PAD', 'PAD', 'PAD', 'PAD', 'PAD']\n",
      "epoch 119: loss : 1.8046754598617554\n",
      "['a', 'puppy', 'is', 'playing', 'on', 'dress', 'moves', 'EOS', 'BOS', 'BOS', 'BOS', 'BOS', 'BOS', 'BOS', 'BOS', 'BOS', 'BOS', 'BOS', 'BOS', 'BOS', 'BOS', 'BOS']\n",
      "truth: ['a', 'puppy', 'is', 'playing', 'on', 'a', 'sofa', 'EOS', 'PAD', 'PAD', 'PAD', 'PAD', 'PAD', 'PAD', 'PAD', 'PAD', 'PAD', 'PAD', 'PAD', 'PAD', 'PAD', 'PAD', 'PAD', 'PAD', 'PAD', 'PAD', 'PAD', 'PAD', 'PAD', 'PAD', 'PAD', 'PAD', 'PAD', 'PAD', 'PAD', 'PAD', 'PAD', 'PAD', 'PAD', 'PAD', 'PAD']\n",
      "epoch 120: loss : 1.8929797410964966\n",
      "['a', 'man', 'is', 'playing', 'violin', 'EOS', 'BOS', 'BOS', 'BOS', 'BOS', 'BOS', 'BOS', 'BOS', 'BOS', 'BOS', 'BOS', 'BOS', 'BOS', 'BOS', 'BOS', 'BOS', 'BOS']\n",
      "truth: ['a', 'man', 'is', 'playing', 'a', 'violin', 'EOS', 'PAD', 'PAD', 'PAD', 'PAD', 'PAD', 'PAD', 'PAD', 'PAD', 'PAD', 'PAD', 'PAD', 'PAD', 'PAD', 'PAD', 'PAD', 'PAD', 'PAD', 'PAD', 'PAD', 'PAD', 'PAD', 'PAD', 'PAD', 'PAD', 'PAD', 'PAD', 'PAD', 'PAD', 'PAD', 'PAD', 'PAD', 'PAD', 'PAD', 'PAD']\n",
      "epoch 121: loss : 1.8769967555999756\n",
      "['a', 'man', 'is', 'erasing', 'a', 'chalk', 'EOS', 'BOS', 'BOS', 'BOS', 'BOS', 'BOS', 'BOS', 'BOS', 'BOS', 'BOS', 'BOS', 'BOS', 'BOS', 'BOS']\n",
      "truth: ['a', 'man', 'is', 'erasing', 'a', 'UWK', 'EOS', 'PAD', 'PAD', 'PAD', 'PAD', 'PAD', 'PAD', 'PAD', 'PAD', 'PAD', 'PAD', 'PAD', 'PAD', 'PAD', 'PAD', 'PAD', 'PAD', 'PAD', 'PAD', 'PAD', 'PAD', 'PAD', 'PAD', 'PAD', 'PAD', 'PAD', 'PAD', 'PAD', 'PAD', 'PAD', 'PAD', 'PAD', 'PAD', 'PAD', 'PAD']\n",
      "epoch 122: loss : 1.916999340057373\n",
      "['a', 'man', 'is', 'a', 'drink', 'on', 'a', 'camera', 'EOS', 'BOS', 'BOS', 'BOS', 'BOS', 'BOS', 'BOS', 'BOS', 'BOS', 'BOS', 'BOS', 'BOS', 'BOS', 'BOS', 'BOS', 'BOS', 'BOS']\n",
      "truth: ['a', 'man', 'poured', 'a', 'drink', 'onto', 'a', 'camera', 'EOS', 'PAD', 'PAD', 'PAD', 'PAD', 'PAD', 'PAD', 'PAD', 'PAD', 'PAD', 'PAD', 'PAD', 'PAD', 'PAD', 'PAD', 'PAD', 'PAD', 'PAD', 'PAD', 'PAD', 'PAD', 'PAD', 'PAD', 'PAD', 'PAD', 'PAD', 'PAD', 'PAD', 'PAD', 'PAD', 'PAD', 'PAD', 'PAD']\n",
      "epoch 123: loss : 1.810340166091919\n",
      "['a', 'woman', 'is', 'noodles', 'noodles', 'EOS', 'BOS', 'BOS', 'BOS', 'BOS', 'BOS', 'BOS', 'BOS', 'BOS']\n",
      "truth: ['the', 'woman', 'is', 'cooking', 'noodles', 'EOS', 'PAD', 'PAD', 'PAD', 'PAD', 'PAD', 'PAD', 'PAD', 'PAD', 'PAD', 'PAD', 'PAD', 'PAD', 'PAD', 'PAD', 'PAD', 'PAD', 'PAD', 'PAD', 'PAD', 'PAD', 'PAD', 'PAD', 'PAD', 'PAD', 'PAD', 'PAD', 'PAD', 'PAD', 'PAD', 'PAD', 'PAD', 'PAD', 'PAD', 'PAD', 'PAD']\n",
      "epoch 124: loss : 1.9432685375213623\n",
      "['a', 'man', 'is', 'a', 'drink', 'on', 'a', 'camera', 'EOS', 'BOS', 'BOS', 'BOS', 'BOS', 'BOS', 'BOS', 'BOS', 'BOS', 'BOS', 'BOS', 'BOS']\n",
      "truth: ['a', 'man', 'is', 'UWK', 'something', 'to', 'a', 'camera', 'EOS', 'PAD', 'PAD', 'PAD', 'PAD', 'PAD', 'PAD', 'PAD', 'PAD', 'PAD', 'PAD', 'PAD', 'PAD', 'PAD', 'PAD', 'PAD', 'PAD', 'PAD', 'PAD', 'PAD', 'PAD', 'PAD', 'PAD', 'PAD', 'PAD', 'PAD', 'PAD', 'PAD', 'PAD', 'PAD', 'PAD', 'PAD', 'PAD']\n",
      "epoch 125: loss : 1.7346595525741577\n",
      "['a', 'woman', 'is', 'slicing', 'raw', 'meat', 'EOS', 'BOS', 'BOS', 'BOS', 'BOS', 'BOS', 'BOS', 'BOS', 'BOS', 'BOS', 'BOS', 'BOS', 'BOS', 'BOS', 'BOS', 'BOS', 'BOS', 'BOS']\n",
      "truth: ['a', 'woman', 'is', 'slicing', 'a', 'tuna', 'steak', 'into', 'strips', 'EOS', 'PAD', 'PAD', 'PAD', 'PAD', 'PAD', 'PAD', 'PAD', 'PAD', 'PAD', 'PAD', 'PAD', 'PAD', 'PAD', 'PAD', 'PAD', 'PAD', 'PAD', 'PAD', 'PAD', 'PAD', 'PAD', 'PAD', 'PAD', 'PAD', 'PAD', 'PAD', 'PAD', 'PAD', 'PAD', 'PAD', 'PAD']\n",
      "epoch 126: loss : 1.7787896394729614\n",
      "['a', 'man', 'is', 'doing', 'pushups', 'UWK', 'pushups', 'EOS', 'BOS', 'BOS', 'BOS', 'BOS', 'BOS', 'BOS', 'BOS', 'BOS', 'BOS', 'BOS', 'BOS', 'BOS', 'BOS', 'BOS', 'BOS', 'BOS', 'BOS', 'BOS', 'BOS', 'BOS', 'BOS']\n",
      "truth: ['the', 'man', 'is', 'doing', 'pushups', 'with', 'one', 'hand', 'EOS', 'PAD', 'PAD', 'PAD', 'PAD', 'PAD', 'PAD', 'PAD', 'PAD', 'PAD', 'PAD', 'PAD', 'PAD', 'PAD', 'PAD', 'PAD', 'PAD', 'PAD', 'PAD', 'PAD', 'PAD', 'PAD', 'PAD', 'PAD', 'PAD', 'PAD', 'PAD', 'PAD', 'PAD', 'PAD', 'PAD', 'PAD', 'PAD']\n",
      "epoch 127: loss : 1.787074327468872\n",
      "['a', 'man', 'is', 'water', 'into', 'into', 'pot', 'EOS', 'BOS', 'BOS', 'BOS', 'BOS', 'BOS', 'BOS', 'BOS']\n",
      "truth: ['a', 'person', 'pours', 'water', 'into', 'a', 'bowl', 'EOS', 'PAD', 'PAD', 'PAD', 'PAD', 'PAD', 'PAD', 'PAD', 'PAD', 'PAD', 'PAD', 'PAD', 'PAD', 'PAD', 'PAD', 'PAD', 'PAD', 'PAD', 'PAD', 'PAD', 'PAD', 'PAD', 'PAD', 'PAD', 'PAD', 'PAD', 'PAD', 'PAD', 'PAD', 'PAD', 'PAD', 'PAD', 'PAD', 'PAD']\n",
      "epoch 128: loss : 1.7070198059082031\n",
      "['a', 'man', 'is', 'serving', 'food', 'a', 'kids', 'at', 'EOS', 'BOS', 'BOS', 'BOS', 'BOS', 'BOS', 'BOS']\n",
      "truth: ['a', 'man', 'is', 'serving', 'food', 'to', 'children', 'EOS', 'PAD', 'PAD', 'PAD', 'PAD', 'PAD', 'PAD', 'PAD', 'PAD', 'PAD', 'PAD', 'PAD', 'PAD', 'PAD', 'PAD', 'PAD', 'PAD', 'PAD', 'PAD', 'PAD', 'PAD', 'PAD', 'PAD', 'PAD', 'PAD', 'PAD', 'PAD', 'PAD', 'PAD', 'PAD', 'PAD', 'PAD', 'PAD', 'PAD']\n",
      "epoch 129: loss : 1.8070061206817627\n",
      "['a', 'man', 'is', 'a', 'a', 'on', 'a', 'driver', 'bike', 'off', 'a', 'EOS', 'BOS', 'BOS', 'BOS', 'BOS', 'BOS', 'BOS', 'BOS', 'BOS', 'BOS', 'BOS', 'BOS', 'BOS', 'BOS']\n",
      "truth: ['a', 'dirt', 'bike', 'rider', 'falling', 'out', 'a', 'dirt', 'bike', 'EOS', 'PAD', 'PAD', 'PAD', 'PAD', 'PAD', 'PAD', 'PAD', 'PAD', 'PAD', 'PAD', 'PAD', 'PAD', 'PAD', 'PAD', 'PAD', 'PAD', 'PAD', 'PAD', 'PAD', 'PAD', 'PAD', 'PAD', 'PAD', 'PAD', 'PAD', 'PAD', 'PAD', 'PAD', 'PAD', 'PAD', 'PAD']\n",
      "epoch 130: loss : 1.9176690578460693\n",
      "['a', 'woman', 'is', 'up', 'raw', 'meat', 'meat', 'EOS', 'BOS', 'BOS', 'BOS', 'BOS', 'BOS', 'BOS', 'BOS', 'BOS', 'BOS', 'BOS', 'BOS', 'BOS', 'BOS', 'BOS', 'BOS', 'BOS']\n",
      "truth: ['a', 'woman', 'cuts', 'up', 'some', 'meat', 'EOS', 'PAD', 'PAD', 'PAD', 'PAD', 'PAD', 'PAD', 'PAD', 'PAD', 'PAD', 'PAD', 'PAD', 'PAD', 'PAD', 'PAD', 'PAD', 'PAD', 'PAD', 'PAD', 'PAD', 'PAD', 'PAD', 'PAD', 'PAD', 'PAD', 'PAD', 'PAD', 'PAD', 'PAD', 'PAD', 'PAD', 'PAD', 'PAD', 'PAD', 'PAD']\n",
      "epoch 131: loss : 1.7444566488265991\n",
      "['a', 'man', 'is', 'flipping', 'chicken', 'chicken', 'wings', 'tray', 'oven', 'oven', 'EOS', 'BOS', 'BOS', 'BOS', 'BOS', 'BOS', 'BOS', 'BOS', 'BOS', 'BOS', 'BOS', 'BOS', 'BOS', 'BOS', 'BOS', 'BOS', 'BOS', 'BOS', 'BOS', 'BOS', 'BOS', 'BOS', 'BOS']\n",
      "truth: ['a', 'man', 'is', 'flipping', 'over', 'chicken', 'wings', 'in', 'the', 'oven', 'EOS', 'PAD', 'PAD', 'PAD', 'PAD', 'PAD', 'PAD', 'PAD', 'PAD', 'PAD', 'PAD', 'PAD', 'PAD', 'PAD', 'PAD', 'PAD', 'PAD', 'PAD', 'PAD', 'PAD', 'PAD', 'PAD', 'PAD', 'PAD', 'PAD', 'PAD', 'PAD', 'PAD', 'PAD', 'PAD', 'PAD']\n",
      "epoch 132: loss : 1.6971216201782227\n",
      "['a', 'cat', 'is', 'a', 'a', 'dog', 'EOS', 'BOS', 'BOS', 'BOS', 'BOS', 'BOS', 'BOS', 'BOS', 'BOS', 'BOS', 'BOS', 'BOS', 'BOS', 'BOS', 'BOS', 'BOS', 'BOS', 'BOS', 'BOS', 'BOS']\n",
      "truth: ['the', 'cat', 'teased', 'the', 'dog', 'by', 'touching', 'his', 'head', 'EOS', 'PAD', 'PAD', 'PAD', 'PAD', 'PAD', 'PAD', 'PAD', 'PAD', 'PAD', 'PAD', 'PAD', 'PAD', 'PAD', 'PAD', 'PAD', 'PAD', 'PAD', 'PAD', 'PAD', 'PAD', 'PAD', 'PAD', 'PAD', 'PAD', 'PAD', 'PAD', 'PAD', 'PAD', 'PAD', 'PAD', 'PAD']\n",
      "epoch 133: loss : 1.6418027877807617\n",
      "['a', 'man', 'serves', 'serving', 'to', 'children', 'a', 'group', 'of', 'children', 'EOS', 'BOS', 'BOS', 'BOS', 'BOS', 'BOS', 'BOS', 'BOS', 'BOS']\n",
      "truth: ['a', 'waiter', 'serves', 'four', 'kids', 'at', 'a', 'UWK', 'EOS', 'PAD', 'PAD', 'PAD', 'PAD', 'PAD', 'PAD', 'PAD', 'PAD', 'PAD', 'PAD', 'PAD', 'PAD', 'PAD', 'PAD', 'PAD', 'PAD', 'PAD', 'PAD', 'PAD', 'PAD', 'PAD', 'PAD', 'PAD', 'PAD', 'PAD', 'PAD', 'PAD', 'PAD', 'PAD', 'PAD', 'PAD', 'PAD']\n",
      "epoch 134: loss : 1.8614706993103027\n",
      "['a', 'is', 'is', 'chopping', 'garlic', 'EOS', 'BOS', 'BOS', 'BOS', 'BOS', 'BOS', 'BOS', 'BOS', 'BOS', 'BOS', 'BOS', 'BOS', 'BOS', 'BOS', 'BOS', 'BOS', 'BOS', 'BOS']\n",
      "truth: ['the', 'lady', 'crushed', 'the', 'garlic', 'EOS', 'PAD', 'PAD', 'PAD', 'PAD', 'PAD', 'PAD', 'PAD', 'PAD', 'PAD', 'PAD', 'PAD', 'PAD', 'PAD', 'PAD', 'PAD', 'PAD', 'PAD', 'PAD', 'PAD', 'PAD', 'PAD', 'PAD', 'PAD', 'PAD', 'PAD', 'PAD', 'PAD', 'PAD', 'PAD', 'PAD', 'PAD', 'PAD', 'PAD', 'PAD', 'PAD']\n",
      "epoch 135: loss : 1.7849143743515015\n"
     ]
    },
    {
     "ename": "KeyboardInterrupt",
     "evalue": "",
     "output_type": "error",
     "traceback": [
      "\u001b[0;31m---------------------------------------------------------------------------\u001b[0m",
      "\u001b[0;31mKeyboardInterrupt\u001b[0m                         Traceback (most recent call last)",
      "\u001b[0;32m<ipython-input-12-70c37dfa3eec>\u001b[0m in \u001b[0;36m<module>\u001b[0;34m\u001b[0m\n\u001b[1;32m      9\u001b[0m     \u001b[0;32mfor\u001b[0m \u001b[0mj\u001b[0m \u001b[0;32min\u001b[0m \u001b[0mrange\u001b[0m\u001b[0;34m(\u001b[0m\u001b[0mlen\u001b[0m\u001b[0;34m(\u001b[0m\u001b[0mX\u001b[0m\u001b[0;34m)\u001b[0m \u001b[0;34m//\u001b[0m \u001b[0mBATCH_SIZE\u001b[0m\u001b[0;34m)\u001b[0m\u001b[0;34m:\u001b[0m\u001b[0;34m\u001b[0m\u001b[0m\n\u001b[1;32m     10\u001b[0m         X_batch, y_inputs_batch, y_targets_batch, sequence_length_batch = generate_batch(X, y_inputs, y_targets, caption_id_to_feature_id, word_idx,\n\u001b[0;32m---> 11\u001b[0;31m          sequence_lengths, BATCH_SIZE)\n\u001b[0m\u001b[1;32m     12\u001b[0m \u001b[0;31m#         print(y_inputs_batch.shape, y_targets_batch.shape, max(sequence_length_batch))\u001b[0m\u001b[0;34m\u001b[0m\u001b[0;34m\u001b[0m\u001b[0m\n\u001b[1;32m     13\u001b[0m         _, loss, prediction  = sess.run([train_op, cost, pred_output], feed_dict= {encoder_inputs : X_batch, decoder_inputs : y_inputs_batch,\n",
      "\u001b[0;32m~/dev/MLDS-107/hw4/alpha_preprocessing.py\u001b[0m in \u001b[0;36mgenerate_batch\u001b[0;34m(X, y_inputs, y_targets, caption_id_to_feature_id, word_idx, sequence_length, batch_size)\u001b[0m\n\u001b[1;32m     86\u001b[0m     \u001b[0mx_idx\u001b[0m \u001b[0;34m=\u001b[0m \u001b[0;34m[\u001b[0m\u001b[0mcaption_id_to_feature_id\u001b[0m\u001b[0;34m[\u001b[0m\u001b[0mid\u001b[0m\u001b[0;34m]\u001b[0m \u001b[0;32mfor\u001b[0m \u001b[0mid\u001b[0m \u001b[0;32min\u001b[0m \u001b[0midx\u001b[0m\u001b[0;34m]\u001b[0m\u001b[0;34m\u001b[0m\u001b[0m\n\u001b[1;32m     87\u001b[0m \u001b[0;34m\u001b[0m\u001b[0m\n\u001b[0;32m---> 88\u001b[0;31m     \u001b[0mX_batch\u001b[0m \u001b[0;34m=\u001b[0m \u001b[0mX\u001b[0m\u001b[0;34m[\u001b[0m\u001b[0mx_idx\u001b[0m\u001b[0;34m]\u001b[0m\u001b[0;34m\u001b[0m\u001b[0m\n\u001b[0m\u001b[1;32m     89\u001b[0m     \u001b[0my_inputs_batch\u001b[0m \u001b[0;34m=\u001b[0m \u001b[0my_inputs\u001b[0m\u001b[0;34m[\u001b[0m\u001b[0midx\u001b[0m\u001b[0;34m]\u001b[0m\u001b[0;34m\u001b[0m\u001b[0m\n\u001b[1;32m     90\u001b[0m     \u001b[0my_targets_batch\u001b[0m \u001b[0;34m=\u001b[0m \u001b[0my_targets\u001b[0m\u001b[0;34m[\u001b[0m\u001b[0midx\u001b[0m\u001b[0;34m]\u001b[0m\u001b[0;34m\u001b[0m\u001b[0m\n",
      "\u001b[0;31mKeyboardInterrupt\u001b[0m: "
     ]
    }
   ],
   "source": [
    "# training start\n",
    "import math\n",
    "sess.run(tf.global_variables_initializer())\n",
    "\n",
    "epoc = 90\n",
    "fake_max_sequence = np.array([max_length] * BATCH_SIZE)\n",
    "for i in range(epoc):\n",
    "    sample_prob_input = min(float(i) / epoc + 0.2, 1.0)\n",
    "    for j in range(len(X) // BATCH_SIZE):\n",
    "        X_batch, y_inputs_batch, y_targets_batch, sequence_length_batch = generate_batch(X, y_inputs, y_targets, caption_id_to_feature_id, word_idx,\n",
    "         sequence_lengths, BATCH_SIZE)\n",
    "#         print(y_inputs_batch.shape, y_targets_batch.shape, max(sequence_length_batch))\n",
    "        _, loss, prediction  = sess.run([train_op, cost, pred_output], feed_dict= {encoder_inputs : X_batch, decoder_inputs : y_inputs_batch,\n",
    "                                              decoder_targets: y_targets_batch, sequence_length : sequence_length_batch,\n",
    "                                                                      sequence_length_fake : fake_max_sequence, sampling_prob : sample_prob_input,\n",
    "                                                                                  batch_size : BATCH_SIZE, keep_prob : KEEP_PROB})\n",
    "    print( [ idx_word[idx] for idx in np.argmax(prediction[0], axis = 1) ])\n",
    "    print( 'truth:', [ idx_word[y_targets_batch[0,k]] for k in range(max_length)])\n",
    "    print(\"epoch {0}: loss : {1}\".format(i, loss))"
   ]
  },
  {
   "cell_type": "code",
   "execution_count": 13,
   "metadata": {},
   "outputs": [
    {
     "data": {
      "text/plain": [
       "array([41, 41, 41, 41, 41, 41, 41, 41, 41, 41, 41, 41, 41, 41, 41, 41, 41,\n",
       "       41, 41, 41, 41, 41, 41, 41, 41, 41, 41, 41, 41, 41, 41, 41, 41, 41,\n",
       "       41, 41, 41, 41, 41, 41, 41, 41, 41, 41, 41, 41, 41, 41, 41, 41, 41,\n",
       "       41, 41, 41, 41, 41, 41, 41, 41, 41, 41, 41, 41, 41, 41, 41, 41, 41,\n",
       "       41, 41, 41, 41, 41, 41, 41, 41, 41, 41, 41, 41, 41, 41, 41, 41, 41,\n",
       "       41, 41, 41, 41, 41, 41, 41, 41, 41, 41, 41, 41, 41, 41, 41])"
      ]
     },
     "execution_count": 13,
     "metadata": {},
     "output_type": "execute_result"
    }
   ],
   "source": [
    "fake_max_sequence"
   ]
  },
  {
   "cell_type": "code",
   "execution_count": 14,
   "metadata": {},
   "outputs": [
    {
     "name": "stdout",
     "output_type": "stream",
     "text": [
      "Model saved in path: ./tmp/model_lstm_with_drop_0.7_layer_1_miore.ckpt\n"
     ]
    }
   ],
   "source": [
    "# Add ops to save and restore all the variables.\n",
    "saver = tf.train.Saver()\n",
    "\n",
    "save_path = saver.save(sess, \"./tmp/model_lstm_with_drop_0.7_layer_1_miore.ckpt\")\n",
    "print(\"Model saved in path: %s\" % save_path)"
   ]
  },
  {
   "cell_type": "code",
   "execution_count": 15,
   "metadata": {},
   "outputs": [
    {
     "name": "stdout",
     "output_type": "stream",
     "text": [
      "INFO:tensorflow:Restoring parameters from ./tmp/model_lstm_with_drop_0.7_layer_1_miore.ckpt\n"
     ]
    }
   ],
   "source": [
    "#  Restore the path\n",
    "saver = tf.train.Saver()\n",
    "\n",
    "saver.restore(sess, save_path)\n"
   ]
  },
  {
   "cell_type": "code",
   "execution_count": 16,
   "metadata": {},
   "outputs": [
    {
     "name": "stdout",
     "output_type": "stream",
     "text": [
      "start loading data\n",
      "start encoding\n",
      "start convert to npy\n",
      "Done data generation!\n"
     ]
    }
   ],
   "source": [
    "X_test, _, _, _, _, _, _, max_length, sequence_lengths, video_id = data_generator('./data/testing_data', './data/testing_label.json', 2)"
   ]
  },
  {
   "cell_type": "code",
   "execution_count": 17,
   "metadata": {},
   "outputs": [
    {
     "name": "stdout",
     "output_type": "stream",
     "text": [
      "100\n",
      "['a man is the a a', 'a man is a a a', 'a man is a a a', 'a woman is the a', 'a woman is on a a on', 'a guinea are ate', 'a girl is drinking her a a', 'baby are are playing', 'a man is doing a', 'a man is the a a a a', 'a lady is the water', 'a man is a a a', 'a man is on a a', 'a little is is from a', 'a woman is the of', 'a man is running on a', 'a man is a a a a a', 'a woman is on a a', 'a man is a a on', 'a woman is up a', 'a man is up a', 'a man is a a', 'a man is playing a', 'a woman is the garlic', 'a man is up a a a', 'a man is on a a', 'a man is the a on a', 'a baby is up a a', 'a little is is out the hands', 'a woman is swinging', 'a woman is the into a a', 'a woman is cracking eggs into a bowl', 'a man is a on a', 'a man is dancing a a stage', 'a woman is wrapping a block of tofu in paper', 'a man is writing on a stage', 'a man is a a a', 'a man is a a', 'a man is running the a', 'a lady is slicing meat', 'a man is a a a a a', 'a is puts adding into a a', 'a man is a on a', 'a dog is playing a the', 'a woman is the into a a', 'a woman is the a with clove', 'a boy is a out of', 'a girl is on under lady she was poops as horses tail end', 'a girl is is her the table', 'a man is playing the', 'a woman is wrapping a block of', 'a man is running a a', 'a man is playing the', 'a person is and water ingredients', 'a man is running on a', 'a man is adding into into a', 'a man is doing a', 'a woman is on a her', 'a lady is a', 'a woman rolled rolling dough of her hands', 'a man is doing a top a rock a', 'a woman is up a', 'a man is running a a', 'a man is a a a', 'a man is a a with', 'a are is', 'a person is pouring into into a pot', 'a man is his a', 'a person is placing in into a', 'a man is a a a a a', 'a man is a on a', 'a baby is is out a', 'a man is a a riding a a', 'a woman is a a a a a', 'a woman is peeling a', 'a man is a a', 'a baby is is with a', 'a woman is peeling a', 'a woman is the into a a', 'a are is a a a', 'a man is doing a on', 'a cat is is the on', 'a woman is up a with a', 'a woman is the meat with a', 'a man is playing a', 'a small is is a a', 'a dog is is a the', 'a slow is is', 'a baby is is on a', 'a woman is the a', 'a woman is is her', 'a man is a on', 'a man is a a from a a', 'a person is adding into a pot', 'a woman is on a a', 'a dog is is on a', 'a man is riding a motorcycle', 'a puppy is doing on on', 'a man is a open a', 'a man is pouring into into a pot']\n"
     ]
    }
   ],
   "source": [
    "fake_max_sequence = np.array([max_length] * X_test.shape[0])\n",
    "print(X_test.shape[0])\n",
    "prediction = sess.run(pred_output, feed_dict = {encoder_inputs : X_test, sequence_length : sequence_lengths,\n",
    "                                                                      sequence_length_fake : fake_max_sequence, sampling_prob : 1.0,\n",
    "                                               batch_size : len(X_test), keep_prob : 1.0} )\n",
    "prediction = [ [ idx_word[idx] for idx in np.argmax(prediction[i], axis = 1) ] for i in range(X_test.shape[0]) ]\n",
    "prediction = [[ word for word in pred if (word != 'EOS' and word != 'BOS' and word != 'UWK')] for pred in prediction]\n",
    "prediction = [ \" \".join(data) for data in prediction]\n",
    "print(prediction)\n",
    "\n",
    "import pandas as pd\n",
    "\n",
    "df = pd.DataFrame({'id' : video_id, 'cation': prediction})\n",
    "df.to_csv('result_drop_0.7_layer_1.csv', index = False, header = False)"
   ]
  },
  {
   "cell_type": "code",
   "execution_count": null,
   "metadata": {},
   "outputs": [],
   "source": []
  }
 ],
 "metadata": {
  "kernelspec": {
   "display_name": "Python 3",
   "language": "python",
   "name": "python3"
  },
  "language_info": {
   "codemirror_mode": {
    "name": "ipython",
    "version": 3
   },
   "file_extension": ".py",
   "mimetype": "text/x-python",
   "name": "python",
   "nbconvert_exporter": "python",
   "pygments_lexer": "ipython3",
   "version": "3.6.5"
  }
 },
 "nbformat": 4,
 "nbformat_minor": 2
}
