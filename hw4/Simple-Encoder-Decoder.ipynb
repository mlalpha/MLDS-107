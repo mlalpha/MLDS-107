{
 "cells": [
  {
   "cell_type": "code",
   "execution_count": 1,
   "metadata": {},
   "outputs": [],
   "source": [
    "import tensorflow as tf\n",
    "import numpy as np\n",
    "from preposessing_data import generate_batch, data_generator"
   ]
  },
  {
   "cell_type": "code",
   "execution_count": 2,
   "metadata": {},
   "outputs": [],
   "source": [
    "ENCODER_INPUT_SIZE = 4096\n",
    "HIDDEN_LAYER_SIZE = 1024\n",
    "EMBEDDING_SIZE = 1024\n",
    "NUM_OF_LAYER = 2\n",
    "BOS = 0\n",
    "EOS = 1\n",
    "BATCH_SIZE = 29\n",
    "keep_prob = 1.0\n"
   ]
  },
  {
   "cell_type": "code",
   "execution_count": 3,
   "metadata": {
    "scrolled": true
   },
   "outputs": [
    {
     "name": "stdout",
     "output_type": "stream",
     "text": [
      "starting load data......\n",
      "encoding data........\n",
      "adding special symbol......\n",
      "[[  0   4   5 ...   3   3   3]\n",
      " [  0   4  10 ...   3   3   3]\n",
      " [  0   4  15 ...   3   3   3]\n",
      " ...\n",
      " [  0   4   5 ...   3   3   3]\n",
      " [  0   8 397 ...   3   3   3]\n",
      " [  0   4  10 ...   3   3   3]] [[  4   5   6 ...   3   3   3]\n",
      " [  4  10  11 ...   3   3   3]\n",
      " [  4  15  16 ...   3   3   3]\n",
      " ...\n",
      " [  4   5 111 ...   3   3   3]\n",
      " [  8 397 507 ...   3   3   3]\n",
      " [  4  10  17 ...   3   3   3]]\n",
      "Done data generation!\n"
     ]
    }
   ],
   "source": [
    "X, y_inputs, y_targets, word_idx, idx_word, num_of_words, max_length, sequence_lengths = data_generator('./data/training_data', './data/training_label.json', 2)"
   ]
  },
  {
   "cell_type": "markdown",
   "metadata": {},
   "source": [
    "# Define the model"
   ]
  },
  {
   "cell_type": "code",
   "execution_count": 4,
   "metadata": {},
   "outputs": [],
   "source": [
    "tf.reset_default_graph()\n",
    "gpu_options = tf.GPUOptions(per_process_gpu_memory_fraction=0.7)\n",
    "sess = tf.InteractiveSession(config=tf.ConfigProto(device_count = {'GPU': 1}, gpu_options=gpu_options))\n",
    "with tf.name_scope('input'):\n",
    "    encoder_inputs = tf.placeholder(tf.float32, shape = [None, None, ENCODER_INPUT_SIZE])\n",
    "    decoder_inputs = tf.placeholder(tf.int32, shape = [None, None])\n",
    "    decoder_targets = tf.placeholder(tf.int32, shape = [None, None])\n",
    "    sequence_length = tf.placeholder(tf.int32, shape = [None])\n",
    "    sequence_length_fake = tf.placeholder(tf.int32, shape = [None])\n",
    "    sampling_prob = tf.placeholder(tf.float32, shape = [])"
   ]
  },
  {
   "cell_type": "markdown",
   "metadata": {},
   "source": [
    "# Define Encoder "
   ]
  },
  {
   "cell_type": "code",
   "execution_count": null,
   "metadata": {},
   "outputs": [],
   "source": [
    "with tf.name_scope('encoder'):\n",
    "    encoder_inputs_embedded = tf.layers.dense(encoder_inputs, EMBEDDING_SIZE)\n",
    "    encoder_cell_fw = tf.contrib.rnn.MultiRNNCell([tf.nn.rnn_cell.DropoutWrapper(tf.contrib.rnn.LSTMCell(HIDDEN_LAYER_SIZE), keep_prob) for _ in range(NUM_OF_LAYER)])\n",
    "    encoder_cell_bw = tf.contrib.rnn.MultiRNNCell([tf.nn.rnn_cell.DropoutWrapper(tf.contrib.rnn.LSTMCell(HIDDEN_LAYER_SIZE), keep_prob) for _ in range(NUM_OF_LAYER)])\n",
    "    encoder_outputs, encoder_state = tf.nn.bidirectional_dynamic_rnn(encoder_cell_fw, encoder_cell_bw, \n",
    "                                       encoder_inputs_embedded, \n",
    "                                       dtype=tf.float32)\n",
    "    encoder_outputs = tf.concat(encoder_outputs, 2)"
   ]
  },
  {
   "cell_type": "markdown",
   "metadata": {},
   "source": [
    "# Define Decoder for training"
   ]
  },
  {
   "cell_type": "code",
   "execution_count": null,
   "metadata": {},
   "outputs": [],
   "source": [
    "with tf.name_scope('training_decoder'):\n",
    "    decoder_cell = tf.contrib.rnn.MultiRNNCell([tf.nn.rnn_cell.DropoutWrapper(tf.contrib.rnn.LSTMCell(HIDDEN_LAYER_SIZE), keep_prob) for _ in range(NUM_OF_LAYER)]) \n",
    "    # embedding for decoder\n",
    "    embeddings = tf.Variable(tf.random_uniform([num_of_words, EMBEDDING_SIZE], -1.0, 1.0), dtype=tf.float32)\n",
    "    decoder_inputs_embedded = tf.nn.embedding_lookup(embeddings, decoder_inputs)\n",
    "\n",
    "    attention_mechanism = tf.contrib.seq2seq.BahdanauAttention(\n",
    "        num_units=HIDDEN_LAYER_SIZE, memory=encoder_outputs)\n",
    "    attn_cell = tf.contrib.seq2seq.AttentionWrapper(\n",
    "        decoder_cell, attention_mechanism, attention_layer_size=HIDDEN_LAYER_SIZE)\n",
    "    out_cell = tf.contrib.rnn.OutputProjectionWrapper(\n",
    "            attn_cell, num_of_words\n",
    "        )\n",
    "\n",
    "    training_helper = tf.contrib.seq2seq.ScheduledEmbeddingTrainingHelper(decoder_inputs_embedded, \n",
    "                                               sequence_length_fake, embeddings, sampling_prob)\n",
    "    training_decoder = tf.contrib.seq2seq.BasicDecoder(out_cell, \n",
    "                                              training_helper, \n",
    "                                            initial_state = out_cell.zero_state(dtype=tf.float32, batch_size=BATCH_SIZE))\n",
    "    # unrolling the decoder layer\n",
    "    training_outputs, _, _ = tf.contrib.seq2seq.dynamic_decode(training_decoder, \n",
    "                                                      impute_finished = True)"
   ]
  },
  {
   "cell_type": "markdown",
   "metadata": {},
   "source": [
    "# Define Decoder for inference"
   ]
  },
  {
   "cell_type": "code",
   "execution_count": null,
   "metadata": {},
   "outputs": [],
   "source": [
    "with tf.variable_scope('inference_decoder', reuse = True):\n",
    "    inference_helper = tf.contrib.seq2seq.GreedyEmbeddingHelper(embeddings, \n",
    "                                                          tf.fill([BATCH_SIZE], BOS), \n",
    "                                                          EOS)\n",
    "\n",
    "    inference_decoder = tf.contrib.seq2seq.BasicDecoder(out_cell, \n",
    "                                                  inference_helper, \n",
    "                                                initial_state = out_cell.zero_state(dtype=tf.float32, batch_size=BATCH_SIZE))\n",
    "\n",
    "    inference_outputs, _, _ = tf.contrib.seq2seq.dynamic_decode(inference_decoder, \n",
    "                                                          impute_finished=True, maximum_iterations= max_length)"
   ]
  },
  {
   "cell_type": "markdown",
   "metadata": {},
   "source": [
    "# Define the training logits"
   ]
  },
  {
   "cell_type": "code",
   "execution_count": null,
   "metadata": {},
   "outputs": [],
   "source": [
    "training_logits = tf.identity(training_outputs.rnn_output, name='logits')\n",
    "pred_output = tf.identity(inference_outputs.rnn_output, name='logits')\n",
    "masks = tf.sequence_mask(sequence_length, max_length, name = 'mask', dtype=tf.float32)"
   ]
  },
  {
   "cell_type": "code",
   "execution_count": null,
   "metadata": {},
   "outputs": [
    {
     "name": "stdout",
     "output_type": "stream",
     "text": [
      "41\n"
     ]
    }
   ],
   "source": [
    "training_logits\n",
    "print(max_length)"
   ]
  },
  {
   "cell_type": "code",
   "execution_count": null,
   "metadata": {},
   "outputs": [
    {
     "name": "stderr",
     "output_type": "stream",
     "text": [
      "/home/alpha/miniconda3/lib/python3.6/site-packages/tensorflow/python/ops/gradients_impl.py:108: UserWarning: Converting sparse IndexedSlices to a dense Tensor of unknown shape. This may consume a large amount of memory.\n",
      "  \"Converting sparse IndexedSlices to a dense Tensor of unknown shape. \"\n"
     ]
    },
    {
     "data": {
      "text/plain": [
       "<tf.Tensor 'loss:0' shape=() dtype=string>"
      ]
     },
     "execution_count": 10,
     "metadata": {},
     "output_type": "execute_result"
    }
   ],
   "source": [
    "# Define training\n",
    "with tf.name_scope(\"optimization\"):\n",
    "    # Loss function - weighted softmax cross entropy\n",
    "    cost = tf.contrib.seq2seq.sequence_loss(\n",
    "        training_logits,\n",
    "        decoder_targets,\n",
    "        masks)\n",
    "\n",
    "    # Optimizer\n",
    "    optimizer = tf.train.AdamOptimizer(1e-3)\n",
    "\n",
    "    # Gradient Clipping\n",
    "    gradients = optimizer.compute_gradients(cost)\n",
    "    capped_gradients = [(tf.clip_by_value(grad, -1., 1.), var) for grad, var in gradients if grad is not None]\n",
    "    train_op = optimizer.apply_gradients(capped_gradients)\n",
    "tf.summary.scalar('loss', cost)"
   ]
  },
  {
   "cell_type": "markdown",
   "metadata": {},
   "source": [
    "# Tensorbaord log storing"
   ]
  },
  {
   "cell_type": "code",
   "execution_count": null,
   "metadata": {},
   "outputs": [],
   "source": [
    "summaries_dir = './log'\n",
    "merged = tf.summary.merge_all()\n",
    "train_writer = tf.summary.FileWriter(summaries_dir + '/train',\n",
    "                                      sess.graph)\n",
    "test_writer = tf.summary.FileWriter(summaries_dir + '/test')"
   ]
  },
  {
   "cell_type": "markdown",
   "metadata": {},
   "source": [
    "# Training"
   ]
  },
  {
   "cell_type": "code",
   "execution_count": null,
   "metadata": {
    "scrolled": false
   },
   "outputs": [
    {
     "name": "stdout",
     "output_type": "stream",
     "text": [
      "['A', 'man', 'is', 'UWK', 'a', 'UWK', 'EOS']\n",
      "truth: ['A', 'UWK', 'man', 'is', 'UWK', 'as', 'his', 'UWK', 'is', 'UWK', 'in', 'a', 'UWK', 'UWK', 'while', 'UWK', 'are', 'driven', 'into', 'it', 'and', 'UWK', 'over', 'his', 'face', 'EOS', 'PAD', 'PAD', 'PAD', 'PAD', 'PAD', 'PAD', 'PAD', 'PAD', 'PAD', 'PAD', 'PAD', 'PAD', 'PAD', 'PAD', 'PAD']\n",
      "epoch 0: loss : 3.3908307552337646\n",
      "['A', 'woman', 'is', 'cutting', 'a', 'UWK', 'EOS']\n",
      "truth: ['Several', 'boys', 'are', 'playing', 'football', 'in', 'a', 'fenced', 'in', 'area', 'EOS', 'PAD', 'PAD', 'PAD', 'PAD', 'PAD', 'PAD', 'PAD', 'PAD', 'PAD', 'PAD', 'PAD', 'PAD', 'PAD', 'PAD', 'PAD', 'PAD', 'PAD', 'PAD', 'PAD', 'PAD', 'PAD', 'PAD', 'PAD', 'PAD', 'PAD', 'PAD', 'PAD', 'PAD', 'PAD', 'PAD']\n",
      "epoch 1: loss : 3.568258762359619\n"
     ]
    }
   ],
   "source": [
    "# training start\n",
    "import math\n",
    "sess.run(tf.global_variables_initializer())\n",
    "\n",
    "epoc = 7000\n",
    "fake_max_sequence = np.array([max_length] * BATCH_SIZE)\n",
    "for i in range(epoc):\n",
    "    sample_prob_input = min(float(i) / epoc + 0.2, 1.0)\n",
    "    for j in range(len(X) // BATCH_SIZE):\n",
    "        X_batch, y_inputs_batch, y_targets_batch, sequence_length_batch = generate_batch(X, y_inputs, y_targets, word_idx,\n",
    "         sequence_lengths, BATCH_SIZE)\n",
    "#         print(y_inputs_batch.shape, y_targets_batch.shape, max(sequence_length_batch))\n",
    "        _, loss, prediction  = sess.run([train_op, cost, pred_output], feed_dict= {encoder_inputs : X_batch, decoder_inputs : y_inputs_batch,\n",
    "                                              decoder_targets: y_targets_batch, sequence_length : sequence_length_batch,\n",
    "                                                                      sequence_length_fake : fake_max_sequence, sampling_prob : sample_prob_input})\n",
    "    print( [ idx_word[idx] for idx in np.argmax(prediction[0], axis = 1) ])\n",
    "    print( 'truth:', [ idx_word[y_targets_batch[0,k]] for k in range(max_length)])\n",
    "    print(\"epoch {0}: loss : {1}\".format(i, loss))"
   ]
  },
  {
   "cell_type": "code",
   "execution_count": null,
   "metadata": {},
   "outputs": [],
   "source": [
    "fake_max_sequence"
   ]
  },
  {
   "cell_type": "code",
   "execution_count": null,
   "metadata": {},
   "outputs": [],
   "source": [
    "https://github.com/JasonYao81000/MLDS2018SPRING/tree/master/hw2/hw2_1"
   ]
  }
 ],
 "metadata": {
  "kernelspec": {
   "display_name": "Python 3",
   "language": "python",
   "name": "python3"
  },
  "language_info": {
   "codemirror_mode": {
    "name": "ipython",
    "version": 3
   },
   "file_extension": ".py",
   "mimetype": "text/x-python",
   "name": "python",
   "nbconvert_exporter": "python",
   "pygments_lexer": "ipython3",
   "version": "3.6.5"
  }
 },
 "nbformat": 4,
 "nbformat_minor": 2
}
